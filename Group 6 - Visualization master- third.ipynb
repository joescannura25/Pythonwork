{
 "metadata": {
  "kernelspec": {
   "codemirror_mode": {
    "name": "ipython",
    "version": 2
   },
   "display_name": "IPython (Python 2)",
   "language": "python",
   "name": "python2"
  },
  "name": "",
  "signature": "sha256:b3af222f8548159839400a079f99ab3aa877bce191d0466812acd8ad70258033"
 },
 "nbformat": 3,
 "nbformat_minor": 0,
 "worksheets": [
  {
   "cells": [
    {
     "cell_type": "heading",
     "level": 2,
     "metadata": {},
     "source": [
      "What this notebook does?"
     ]
    },
    {
     "cell_type": "markdown",
     "metadata": {},
     "source": [
      "This notebook\n",
      "1. Imports the candidates dataframe (with only Democrats and Republicans candidates) into the notebook\n",
      "2. Visualizes tweet characteristics for Results **(Winners vs Losers)**\n",
      "3. Visualizes tweet characteristics for diffreent political parties **(Democrats vs Republicans)**\n",
      "4. visualizes **faceted plots** for tweet characteristics - faceted by result and party."
     ]
    },
    {
     "cell_type": "code",
     "collapsed": false,
     "input": [
      "import pandas as pd\n",
      "import numpy as np\n",
      "%matplotlib inline\n",
      "import matplotlib\n",
      "import matplotlib.pyplot as plt\n",
      "import seaborn as sns"
     ],
     "language": "python",
     "metadata": {},
     "outputs": [],
     "prompt_number": 1
    },
    {
     "cell_type": "code",
     "collapsed": false,
     "input": [
      "df = pd.read_csv('new_df.csv', index_col = 0)"
     ],
     "language": "python",
     "metadata": {},
     "outputs": [],
     "prompt_number": 2
    },
    {
     "cell_type": "code",
     "collapsed": false,
     "input": [
      "df.head()"
     ],
     "language": "python",
     "metadata": {},
     "outputs": [
      {
       "html": [
        "<div style=\"max-height:1000px;max-width:1500px;overflow:auto;\">\n",
        "<table border=\"1\" class=\"dataframe\">\n",
        "  <thead>\n",
        "    <tr style=\"text-align: right;\">\n",
        "      <th></th>\n",
        "      <th>name</th>\n",
        "      <th>state</th>\n",
        "      <th>party</th>\n",
        "      <th>incumbent</th>\n",
        "      <th>title</th>\n",
        "      <th>result</th>\n",
        "      <th>twitter_username</th>\n",
        "      <th>follower_count</th>\n",
        "      <th>tweets_count</th>\n",
        "      <th>avg_tweet_length</th>\n",
        "      <th>avg_words</th>\n",
        "      <th>retweet_count</th>\n",
        "      <th>avg_retweets</th>\n",
        "      <th>std_retweets</th>\n",
        "      <th>favorite_count</th>\n",
        "      <th>avg_favorite</th>\n",
        "      <th>std_favorite</th>\n",
        "      <th>avg_entities</th>\n",
        "      <th>lexical_diversity</th>\n",
        "      <th>incumbent_code</th>\n",
        "    </tr>\n",
        "  </thead>\n",
        "  <tbody>\n",
        "    <tr>\n",
        "      <th>0</th>\n",
        "      <td>      jerry_brown</td>\n",
        "      <td> California</td>\n",
        "      <td>   Democrat</td>\n",
        "      <td> Yes</td>\n",
        "      <td> Governor</td>\n",
        "      <td> W</td>\n",
        "      <td> JerryBrownGov</td>\n",
        "      <td> 1046667</td>\n",
        "      <td>  42</td>\n",
        "      <td>  99.833333</td>\n",
        "      <td> 12.785714</td>\n",
        "      <td> 1645</td>\n",
        "      <td> 39.166667</td>\n",
        "      <td>  47.974544</td>\n",
        "      <td> 857</td>\n",
        "      <td> 20.404762</td>\n",
        "      <td> 47.269884</td>\n",
        "      <td> 2.785714</td>\n",
        "      <td> 0.570160</td>\n",
        "      <td> 1</td>\n",
        "    </tr>\n",
        "    <tr>\n",
        "      <th>1</th>\n",
        "      <td>    neel_kashkari</td>\n",
        "      <td> California</td>\n",
        "      <td> Republican</td>\n",
        "      <td>  No</td>\n",
        "      <td> Governor</td>\n",
        "      <td> L</td>\n",
        "      <td>  neelkashkari</td>\n",
        "      <td>    6542</td>\n",
        "      <td> 168</td>\n",
        "      <td> 103.619048</td>\n",
        "      <td> 14.672619</td>\n",
        "      <td> 4143</td>\n",
        "      <td> 24.660714</td>\n",
        "      <td> 187.299908</td>\n",
        "      <td> 672</td>\n",
        "      <td>  4.000000</td>\n",
        "      <td>  5.346665</td>\n",
        "      <td> 1.988095</td>\n",
        "      <td> 0.429591</td>\n",
        "      <td> 0</td>\n",
        "    </tr>\n",
        "    <tr>\n",
        "      <th>2</th>\n",
        "      <td>      butch_otter</td>\n",
        "      <td>      Idaho</td>\n",
        "      <td> Republican</td>\n",
        "      <td> Yes</td>\n",
        "      <td> Governor</td>\n",
        "      <td> W</td>\n",
        "      <td> OtterforIdaho</td>\n",
        "      <td>    1165</td>\n",
        "      <td> 372</td>\n",
        "      <td> 120.440860</td>\n",
        "      <td> 18.373656</td>\n",
        "      <td>  217</td>\n",
        "      <td>  0.583333</td>\n",
        "      <td>   1.170639</td>\n",
        "      <td> 116</td>\n",
        "      <td>  0.311828</td>\n",
        "      <td>  0.766249</td>\n",
        "      <td> 3.618280</td>\n",
        "      <td> 0.242886</td>\n",
        "      <td> 1</td>\n",
        "    </tr>\n",
        "    <tr>\n",
        "      <th>3</th>\n",
        "      <td> anthony_balukoff</td>\n",
        "      <td>      Idaho</td>\n",
        "      <td>   Democrat</td>\n",
        "      <td>  No</td>\n",
        "      <td> Governor</td>\n",
        "      <td> L</td>\n",
        "      <td>    AJforIdaho</td>\n",
        "      <td>    1718</td>\n",
        "      <td> 272</td>\n",
        "      <td> 114.988971</td>\n",
        "      <td> 17.283088</td>\n",
        "      <td>  694</td>\n",
        "      <td>  2.551471</td>\n",
        "      <td>   2.694315</td>\n",
        "      <td> 698</td>\n",
        "      <td>  2.566176</td>\n",
        "      <td>  2.880657</td>\n",
        "      <td> 3.143382</td>\n",
        "      <td> 0.307789</td>\n",
        "      <td> 0</td>\n",
        "    </tr>\n",
        "    <tr>\n",
        "      <th>4</th>\n",
        "      <td>        pat_quinn</td>\n",
        "      <td>   Illinois</td>\n",
        "      <td>   Democrat</td>\n",
        "      <td> Yes</td>\n",
        "      <td> Governor</td>\n",
        "      <td> L</td>\n",
        "      <td> GovernorQuinn</td>\n",
        "      <td>   20115</td>\n",
        "      <td>  56</td>\n",
        "      <td> 130.767857</td>\n",
        "      <td> 18.321429</td>\n",
        "      <td>  538</td>\n",
        "      <td>  9.607143</td>\n",
        "      <td>   5.983853</td>\n",
        "      <td> 309</td>\n",
        "      <td>  5.517857</td>\n",
        "      <td>  4.771091</td>\n",
        "      <td> 2.017857</td>\n",
        "      <td> 0.507205</td>\n",
        "      <td> 1</td>\n",
        "    </tr>\n",
        "  </tbody>\n",
        "</table>\n",
        "</div>"
       ],
       "metadata": {},
       "output_type": "pyout",
       "prompt_number": 3,
       "text": [
        "               name       state       party incumbent     title result  \\\n",
        "0       jerry_brown  California    Democrat       Yes  Governor      W   \n",
        "1     neel_kashkari  California  Republican        No  Governor      L   \n",
        "2       butch_otter       Idaho  Republican       Yes  Governor      W   \n",
        "3  anthony_balukoff       Idaho    Democrat        No  Governor      L   \n",
        "4         pat_quinn    Illinois    Democrat       Yes  Governor      L   \n",
        "\n",
        "  twitter_username  follower_count  tweets_count  avg_tweet_length  avg_words  \\\n",
        "0    JerryBrownGov         1046667            42         99.833333  12.785714   \n",
        "1     neelkashkari            6542           168        103.619048  14.672619   \n",
        "2    OtterforIdaho            1165           372        120.440860  18.373656   \n",
        "3       AJforIdaho            1718           272        114.988971  17.283088   \n",
        "4    GovernorQuinn           20115            56        130.767857  18.321429   \n",
        "\n",
        "   retweet_count  avg_retweets  std_retweets  favorite_count  avg_favorite  \\\n",
        "0           1645     39.166667     47.974544             857     20.404762   \n",
        "1           4143     24.660714    187.299908             672      4.000000   \n",
        "2            217      0.583333      1.170639             116      0.311828   \n",
        "3            694      2.551471      2.694315             698      2.566176   \n",
        "4            538      9.607143      5.983853             309      5.517857   \n",
        "\n",
        "   std_favorite  avg_entities  lexical_diversity  incumbent_code  \n",
        "0     47.269884      2.785714           0.570160               1  \n",
        "1      5.346665      1.988095           0.429591               0  \n",
        "2      0.766249      3.618280           0.242886               1  \n",
        "3      2.880657      3.143382           0.307789               0  \n",
        "4      4.771091      2.017857           0.507205               1  "
       ]
      }
     ],
     "prompt_number": 3
    },
    {
     "cell_type": "code",
     "collapsed": false,
     "input": [
      "df.info()"
     ],
     "language": "python",
     "metadata": {},
     "outputs": [
      {
       "output_type": "stream",
       "stream": "stdout",
       "text": [
        "<class 'pandas.core.frame.DataFrame'>\n",
        "Int64Index: 77 entries, 0 to 92\n",
        "Data columns (total 20 columns):\n",
        "name                 77 non-null object\n",
        "state                77 non-null object\n",
        "party                77 non-null object\n",
        "incumbent            77 non-null object\n",
        "title                77 non-null object\n",
        "result               77 non-null object\n",
        "twitter_username     77 non-null object\n",
        "follower_count       77 non-null float64\n",
        "tweets_count         77 non-null int64\n",
        "avg_tweet_length     77 non-null float64\n",
        "avg_words            77 non-null float64\n",
        "retweet_count        77 non-null float64\n",
        "avg_retweets         77 non-null float64\n",
        "std_retweets         77 non-null float64\n",
        "favorite_count       77 non-null float64\n",
        "avg_favorite         77 non-null float64\n",
        "std_favorite         77 non-null float64\n",
        "avg_entities         77 non-null float64\n",
        "lexical_diversity    77 non-null float64\n",
        "incumbent_code       77 non-null int64\n",
        "dtypes: float64(11), int64(2), object(7)\n",
        "memory usage: 12.6 KB\n"
       ]
      }
     ],
     "prompt_number": 4
    },
    {
     "cell_type": "code",
     "collapsed": false,
     "input": [
      "sns.set_context('notebook')\n",
      "sns.set_style('dark')\n",
      "colors = [\"#e74c3c\",\"#2ecc71\"]"
     ],
     "language": "python",
     "metadata": {},
     "outputs": [],
     "prompt_number": 5
    },
    {
     "cell_type": "heading",
     "level": 1,
     "metadata": {},
     "source": [
      "VISUALIZATION - Winners and Losers"
     ]
    },
    {
     "cell_type": "heading",
     "level": 3,
     "metadata": {},
     "source": [
      "(A) Tweet length +  Tweet Entities "
     ]
    },
    {
     "cell_type": "markdown",
     "metadata": {},
     "source": [
      "There was no significant difference in the average number of entities (hashtags, urls etc) in each tweet among winners and losers.  Similarly there was no significant diffrence in characters per tweet or words per tweet among winners and losers."
     ]
    },
    {
     "cell_type": "code",
     "collapsed": false,
     "input": [
      "sns.factorplot('result','avg_tweet_length', data =df, kind ='bar', palette = 'bright');"
     ],
     "language": "python",
     "metadata": {},
     "outputs": [
      {
       "metadata": {},
       "output_type": "display_data",
       "png": "[encoded data removed]",
       "text": [
        "<matplotlib.figure.Figure at 0x10958d310>"
       ]
      }
     ],
     "prompt_number": 6
    },
    {
     "cell_type": "code",
     "collapsed": false,
     "input": [
      "sns.factorplot('result','avg_words', data =df, kind ='bar', palette = 'bright');"
     ],
     "language": "python",
     "metadata": {},
     "outputs": [
      {
       "metadata": {},
       "output_type": "display_data",
       "png": "[encoded data removed]",
       "text": [
        "<matplotlib.figure.Figure at 0x1095fd2d0>"
       ]
      }
     ],
     "prompt_number": 7
    },
    {
     "cell_type": "code",
     "collapsed": false,
     "input": [
      "sns.factorplot('result','avg_entities', data =df, kind ='bar', palette = 'bright');"
     ],
     "language": "python",
     "metadata": {},
     "outputs": [
      {
       "metadata": {},
       "output_type": "display_data",
       "png": "[encoded data removed]",
       "text": [
        "<matplotlib.figure.Figure at 0x109774550>"
       ]
      }
     ],
     "prompt_number": 8
    },
    {
     "cell_type": "heading",
     "level": 3,
     "metadata": {},
     "source": [
      "(B) No. of Followers"
     ]
    },
    {
     "cell_type": "markdown",
     "metadata": {},
     "source": [
      "Candidates who had more followers won."
     ]
    },
    {
     "cell_type": "code",
     "collapsed": false,
     "input": [
      "temp = df[df.name!='jerry_brown']    #Removing an outlier\n",
      "sns.factorplot('result','follower_count', data =temp, kind ='bar',palette = 'bright');"
     ],
     "language": "python",
     "metadata": {},
     "outputs": [
      {
       "metadata": {},
       "output_type": "display_data",
       "png": "[encoded data removed]",
       "text": [
        "<matplotlib.figure.Figure at 0x10a293110>"
       ]
      }
     ],
     "prompt_number": 10
    },
    {
     "cell_type": "heading",
     "level": 3,
     "metadata": {},
     "source": [
      "(C) No. of Tweets and Lexical Diversity"
     ]
    },
    {
     "cell_type": "markdown",
     "metadata": {},
     "source": [
      "Candidates who tweeted more lost. Losers tweeted 275 tweets during the 30-day period whereas winners only tweeted 150 tweets. If a user received 275 tweets from a candidate in a 30-day period he or she s more likely to be put-off by the tweets. A Part of this can also be explained by Lexical Diversity."
     ]
    },
    {
     "cell_type": "code",
     "collapsed": false,
     "input": [
      "sns.factorplot('result','tweets_count', data =df, kind ='bar', palette = 'bright');"
     ],
     "language": "python",
     "metadata": {},
     "outputs": [
      {
       "metadata": {},
       "output_type": "display_data",
       "png": "[encoded data removed]",
       "text": [
        "<matplotlib.figure.Figure at 0x10a083210>"
       ]
      }
     ],
     "prompt_number": 9
    },
    {
     "cell_type": "markdown",
     "metadata": {},
     "source": [
      "The lexical diversity in the winners' tweets was somewhat higher than those for losers. This could means that in the few tweets that winners tweeted they were lexically diverse and the winners made their few tweets count. Whereas losers tweeted similairly worded messages over and over."
     ]
    },
    {
     "cell_type": "code",
     "collapsed": false,
     "input": [
      "sns.factorplot('result','lexical_diversity', data =df, kind ='bar', palette = 'bright');"
     ],
     "language": "python",
     "metadata": {},
     "outputs": [
      {
       "metadata": {},
       "output_type": "display_data",
       "png": "[encoded data removed]",
       "text": [
        "<matplotlib.figure.Figure at 0x10ab9ec50>"
       ]
      }
     ],
     "prompt_number": 13
    },
    {
     "cell_type": "heading",
     "level": 3,
     "metadata": {},
     "source": [
      "(D) Average Retweets and Favorites"
     ]
    },
    {
     "cell_type": "markdown",
     "metadata": {},
     "source": [
      "Interesting to note that there is no significant difference in the average number of times a tweet is retweeted for winners and losers. Average retweets the winners got was marginally better than retweets for losers. Winners tweets got retweeted 12 times whereas losers tweets get retweeted 11 times on an average."
     ]
    },
    {
     "cell_type": "code",
     "collapsed": false,
     "input": [
      "sns.factorplot('result','avg_retweets', data =df, kind ='bar', palette = 'bright');"
     ],
     "language": "python",
     "metadata": {},
     "outputs": [
      {
       "metadata": {},
       "output_type": "display_data",
       "png": "[encoded data removed]",
       "text": [
        "<matplotlib.figure.Figure at 0x10a5c4050>"
       ]
      }
     ],
     "prompt_number": 11
    },
    {
     "cell_type": "markdown",
     "metadata": {},
     "source": [
      "As expected, winners' tweets are favorited a lot more often than losers' tweets on average. Winners' tweets were favorited about 8 times whereas losers' tweets were favorited about 5 times on average."
     ]
    },
    {
     "cell_type": "code",
     "collapsed": false,
     "input": [
      "sns.factorplot('result','avg_favorite', data =df, kind ='bar',palette = 'bright');"
     ],
     "language": "python",
     "metadata": {},
     "outputs": [
      {
       "metadata": {},
       "output_type": "display_data",
       "png": "[encoded data removed]",
       "text": [
        "<matplotlib.figure.Figure at 0x10a7c4190>"
       ]
      }
     ],
     "prompt_number": 12
    },
    {
     "cell_type": "markdown",
     "metadata": {},
     "source": [
      "**Preliminary Conclusion**\n",
      "- **Tweeting more** is going to worsen your chances of winning\n",
      "- **Total number of followers** and **average number of favorites** per tweet are directly proportional to Win/Loss"
     ]
    },
    {
     "cell_type": "heading",
     "level": 1,
     "metadata": {},
     "source": [
      "VISUALIZATION - Democrats and Republicans"
     ]
    },
    {
     "cell_type": "heading",
     "level": 3,
     "metadata": {},
     "source": [
      "(A) Tweet length +  Tweet Entities "
     ]
    },
    {
     "cell_type": "markdown",
     "metadata": {},
     "source": [
      "There was no noticeable difference in these tweet characteristics among Democrats and Republicans. This is very similair to what we saw for winners and losers"
     ]
    },
    {
     "cell_type": "code",
     "collapsed": false,
     "input": [
      "sns.factorplot('party','avg_tweet_length', data =df, kind ='bar',palette = 'bright');"
     ],
     "language": "python",
     "metadata": {},
     "outputs": [
      {
       "metadata": {},
       "output_type": "display_data",
       "png": "[encoded data removed]",
       "text": [
        "<matplotlib.figure.Figure at 0x10ac6e510>"
       ]
      }
     ],
     "prompt_number": 14
    },
    {
     "cell_type": "code",
     "collapsed": false,
     "input": [
      "sns.factorplot('party','avg_words', data =df, kind ='bar',palette = 'bright');"
     ],
     "language": "python",
     "metadata": {},
     "outputs": [
      {
       "metadata": {},
       "output_type": "display_data",
       "png": "[encoded data removed]",
       "text": [
        "<matplotlib.figure.Figure at 0x10adebe10>"
       ]
      }
     ],
     "prompt_number": 15
    },
    {
     "cell_type": "code",
     "collapsed": false,
     "input": [
      "sns.factorplot('party','avg_entities', data =df, kind ='bar',palette = 'bright');"
     ],
     "language": "python",
     "metadata": {},
     "outputs": [
      {
       "metadata": {},
       "output_type": "display_data",
       "png": "[encoded data removed]",
       "text": [
        "<matplotlib.figure.Figure at 0x10b22a590>"
       ]
      }
     ],
     "prompt_number": 16
    },
    {
     "cell_type": "heading",
     "level": 3,
     "metadata": {},
     "source": [
      "(B) No. of Followers"
     ]
    },
    {
     "cell_type": "markdown",
     "metadata": {},
     "source": [
      "On an average both parties have the same number of followers."
     ]
    },
    {
     "cell_type": "code",
     "collapsed": false,
     "input": [
      "temp = df[df.name!='jerry_brown']\n",
      "sns.factorplot('party','follower_count', data = temp, kind ='bar',palette = 'bright');"
     ],
     "language": "python",
     "metadata": {},
     "outputs": [
      {
       "metadata": {},
       "output_type": "display_data",
       "png": "[encoded data removed]",
       "text": [
        "<matplotlib.figure.Figure at 0x10b341e10>"
       ]
      }
     ],
     "prompt_number": 18
    },
    {
     "cell_type": "heading",
     "level": 3,
     "metadata": {},
     "source": [
      "(C) No. of Tweets and Lexical Diversity"
     ]
    },
    {
     "cell_type": "markdown",
     "metadata": {},
     "source": [
      "Democrats tend to tweet a lot more on average that a Republican candidate. In terms of age group, more younger people are democrats and more younger people use twitter. So it makes sense that Democrats tweet more to get attention of that age demograpic."
     ]
    },
    {
     "cell_type": "markdown",
     "metadata": {},
     "source": [
      "http://www.gallup.com/poll/118285/Democrats-Best-Among-Generation-Baby-Boomers.aspx"
     ]
    },
    {
     "cell_type": "code",
     "collapsed": false,
     "input": [
      "sns.factorplot('party','tweets_count', data = df, kind ='bar',palette = 'bright');"
     ],
     "language": "python",
     "metadata": {},
     "outputs": [
      {
       "metadata": {},
       "output_type": "display_data",
       "png": "[encoded data removed]",
       "text": [
        "<matplotlib.figure.Figure at 0x10b3160d0>"
       ]
      }
     ],
     "prompt_number": 17
    },
    {
     "cell_type": "markdown",
     "metadata": {},
     "source": [
      "Republicans have a slightly higher lexical diversity than Democrats."
     ]
    },
    {
     "cell_type": "code",
     "collapsed": false,
     "input": [
      "sns.factorplot('party','lexical_diversity', data =df, kind ='bar',palette = 'bright');"
     ],
     "language": "python",
     "metadata": {},
     "outputs": [
      {
       "metadata": {},
       "output_type": "display_data",
       "png": "[encoded data removed]",
       "text": [
        "<matplotlib.figure.Figure at 0x10b105510>"
       ]
      }
     ],
     "prompt_number": 21
    },
    {
     "cell_type": "heading",
     "level": 3,
     "metadata": {},
     "source": [
      "(D) Retweets and Favourites"
     ]
    },
    {
     "cell_type": "markdown",
     "metadata": {},
     "source": [
      "Both, the tweets of Republicans and Democrats, get retweeted equally on average. This again is similair to what we saw for winners and losers."
     ]
    },
    {
     "cell_type": "code",
     "collapsed": false,
     "input": [
      "sns.factorplot('party','avg_retweets', data =df, kind ='bar',palette = 'bright');"
     ],
     "language": "python",
     "metadata": {},
     "outputs": [
      {
       "metadata": {},
       "output_type": "display_data",
       "png": "[encoded data removed]",
       "text": [
        "<matplotlib.figure.Figure at 0x10aef9450>"
       ]
      }
     ],
     "prompt_number": 19
    },
    {
     "cell_type": "markdown",
     "metadata": {},
     "source": [
      "However, tweets by republicans get more favorites that Democrats."
     ]
    },
    {
     "cell_type": "code",
     "collapsed": false,
     "input": [
      "sns.factorplot('party','avg_favorite', data =df, kind ='bar',palette = 'bright');"
     ],
     "language": "python",
     "metadata": {},
     "outputs": [
      {
       "metadata": {},
       "output_type": "display_data",
       "png": "[encoded data removed]",
       "text": [
        "<matplotlib.figure.Figure at 0x10b3419d0>"
       ]
      }
     ],
     "prompt_number": 20
    },
    {
     "cell_type": "markdown",
     "metadata": {},
     "source": [
      "**Preliminary Conclusion**\n",
      "\n",
      "Candidates:\n",
      "- Democrats tend to **tweet more** in order to attract their target audience of young twitter users and Republicans tweet less.\n",
      "- But Republicans make those tweets count - their tweets have a slightly higher **lexical diversity** compared to republicans.\n",
      "\n",
      "Users - Prospective Voters:\n",
      "- From the perspective of twitter users who are Democratic and Republicans respectively, Republican users **favorite** more than their democratic counterparts."
     ]
    },
    {
     "cell_type": "heading",
     "level": 1,
     "metadata": {},
     "source": [
      "VISUALIZATION - Faceted Plots"
     ]
    },
    {
     "cell_type": "heading",
     "level": 3,
     "metadata": {},
     "source": [
      "(A) No. of Tweets and Followers"
     ]
    },
    {
     "cell_type": "markdown",
     "metadata": {},
     "source": [
      "Republican or Democrat - If they tweet more they tend to lose. This makes sense because it's a natural tendency of users to get annoyed if they receive too many tweets from a person."
     ]
    },
    {
     "cell_type": "code",
     "collapsed": false,
     "input": [
      "sns.factorplot('result','tweets_count','party', data=df, kind ='bar', palette = 'bright');"
     ],
     "language": "python",
     "metadata": {},
     "outputs": [
      {
       "metadata": {},
       "output_type": "display_data",
       "png": "[encoded data removed]",
       "text": [
        "<matplotlib.figure.Figure at 0x1096271d0>"
       ]
      }
     ],
     "prompt_number": 22
    },
    {
     "cell_type": "markdown",
     "metadata": {},
     "source": [
      "Democrat or Republican - More followers means a win. This is more intuitive. We also saw the relationship holds true in the MAE plots."
     ]
    },
    {
     "cell_type": "code",
     "collapsed": false,
     "input": [
      "temp = df[df.name!='jerry_brown']\n",
      "sns.factorplot('result','follower_count','party', data =temp, kind ='bar',palette = 'bright');"
     ],
     "language": "python",
     "metadata": {},
     "outputs": [
      {
       "metadata": {},
       "output_type": "display_data",
       "png": "[encoded data removed]",
       "text": [
        "<matplotlib.figure.Figure at 0x10abd4250>"
       ]
      }
     ],
     "prompt_number": 23
    },
    {
     "cell_type": "heading",
     "level": 3,
     "metadata": {},
     "source": [
      "(B) Lexical Diversity"
     ]
    },
    {
     "cell_type": "markdown",
     "metadata": {},
     "source": [
      "Democrat or Republican - Higher lexical diversity translated to win. Here again users tend to dislike - consciuosly or subconsciuosly - reading tweets that are limited and repetitive. You can hear a user say \"This guy keeps tweeting the same thing again and again\""
     ]
    },
    {
     "cell_type": "code",
     "collapsed": false,
     "input": [
      "sns.factorplot('result','lexical_diversity','party', data = df, kind ='bar',palette = 'bright');"
     ],
     "language": "python",
     "metadata": {},
     "outputs": [
      {
       "metadata": {},
       "output_type": "display_data",
       "png": "[encoded data removed]",
       "text": [
        "<matplotlib.figure.Figure at 0x10a3bd990>"
       ]
      }
     ],
     "prompt_number": 27
    },
    {
     "cell_type": "heading",
     "level": 3,
     "metadata": {},
     "source": [
      "(C) Average Retweets and Average Favourite"
     ]
    },
    {
     "cell_type": "markdown",
     "metadata": {},
     "source": [
      "Republicans win when their tweets are retweeted more often and Democrats lose when their tweets are retweeted often."
     ]
    },
    {
     "cell_type": "code",
     "collapsed": false,
     "input": [
      "sns.factorplot('result','avg_retweets','party', data = df, kind ='bar',palette = 'bright');"
     ],
     "language": "python",
     "metadata": {},
     "outputs": [
      {
       "metadata": {},
       "output_type": "display_data",
       "png": "[encoded data removed]",
       "text": [
        "<matplotlib.figure.Figure at 0x1096f5350>"
       ]
      }
     ],
     "prompt_number": 25
    },
    {
     "cell_type": "markdown",
     "metadata": {},
     "source": [
      "Similarly, Republicans win when their tweets are favorited more often and Democrats lost when their tweets are favorited often."
     ]
    },
    {
     "cell_type": "code",
     "collapsed": false,
     "input": [
      "sns.factorplot('result','avg_favorite','party', data =df, kind ='bar',palette = 'bright');"
     ],
     "language": "python",
     "metadata": {},
     "outputs": [
      {
       "metadata": {},
       "output_type": "display_data",
       "png": "[encoded data removed]",
       "text": [
        "<matplotlib.figure.Figure at 0x10a3cd650>"
       ]
      }
     ],
     "prompt_number": 26
    },
    {
     "cell_type": "markdown",
     "metadata": {},
     "source": [
      "We don't have a great explanation for this phenomenon. A possible explanation is that twitter users that are Democrats are as active as Republican users (evidenced by the same average number of retweets that Republicans and Democrats got). Yet this activity doesn't translate into a win for the Democratic candidate because they probably don't go out to vote.\n",
      "\n",
      "Furthermore, the average age of a voter is likely around 44 while the average age of a twitter user is 28. So an average 28-year old is more likely to be a democrat but is less likely to be an actual voter. \n",
      "\n",
      "So this 28-year old democrat twitter-user actively retweets and favorites tweets from democratic candidates but this user doesn't go out to vote to actually get this candidate elected."
     ]
    },
    {
     "cell_type": "markdown",
     "metadata": {},
     "source": [
      "http://www.marketwatch.com/story/typical-twitter-user-has-iphone-likes-purple-2012-10-12?mod=e2tw"
     ]
    },
    {
     "cell_type": "markdown",
     "metadata": {},
     "source": [
      "http://www.realclearpolitics.com/articles/2008/01/todays_median_age_voters_grew.html"
     ]
    }
   ],
   "metadata": {}
  }
 ]
}