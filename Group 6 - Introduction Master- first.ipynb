{
 "metadata": {
  "kernelspec": {
   "codemirror_mode": {
    "name": "ipython",
    "version": 2
   },
   "display_name": "IPython (Python 2)",
   "language": "python",
   "name": "python2"
  },
  "name": "",
  "signature": "sha256:48b08ca26f38c380b3ec0bb8250ed675a68baf45cc4f24e625551be85818ebdb"
 },
 "nbformat": 3,
 "nbformat_minor": 0,
 "worksheets": [
  {
   "cells": [
    {
     "cell_type": "heading",
     "level": 1,
     "metadata": {},
     "source": [
      "Introduction"
     ]
    },
    {
     "cell_type": "heading",
     "level": 2,
     "metadata": {},
     "source": [
      "What is Twitter? "
     ]
    },
    {
     "cell_type": "code",
     "collapsed": false,
     "input": [
      "from IPython.display import Image, display\n",
      "Image(url='http://upload.wikimedia.org/wikipedia/en/thumb/9/9f/Twitter_bird_logo_2012.svg/100px-Twitter_bird_logo_2012.svg.png')"
     ],
     "language": "python",
     "metadata": {},
     "outputs": [
      {
       "html": [
        "<img src=\"http://upload.wikimedia.org/wikipedia/en/thumb/9/9f/Twitter_bird_logo_2012.svg/100px-Twitter_bird_logo_2012.svg.png\"/>"
       ],
       "metadata": {},
       "output_type": "pyout",
       "prompt_number": 18,
       "text": [
        "<IPython.core.display.Image at 0x36cc9b0>"
       ]
      }
     ],
     "prompt_number": 18
    },
    {
     "cell_type": "markdown",
     "metadata": {},
     "source": [
      "Twitter is a Micro-Blogging service where users create accounts and can send out \u201ctweets\u201d which may contain up to 140 characters. Users blog, follow other users, retweet other's tweets, and favorite other's tweets. Each tweet can contain a large source of valuable informatin known as entities, such as characters, place references, media, and hashtags, and references to other users known as @'s. "
     ]
    },
    {
     "cell_type": "heading",
     "level": 2,
     "metadata": {},
     "source": [
      "Political Background"
     ]
    },
    {
     "cell_type": "markdown",
     "metadata": {},
     "source": [
      "In the U.S. each state has a leader elected by the public known as the Governor of that State, and every city has a corollary leader known as the mayor of that city. Gubenatorial and Mayoral elections are held every two years in states and city's and they follow the same general format as a presidential election, with primary's where a candidate is selected and then a  final election. The Democratic and Republican candidate are typically the two major party's involved, and we chose to study the twitter activity of only these two candidates in each election.    "
     ]
    },
    {
     "cell_type": "heading",
     "level": 2,
     "metadata": {},
     "source": [
      "Project Idea"
     ]
    },
    {
     "cell_type": "code",
     "collapsed": false,
     "input": [
      "Image(url='http://jenebaspeaks.com/wp-content/uploads/2011/05/gov_avatar-300x3001.jpg')"
     ],
     "language": "python",
     "metadata": {},
     "outputs": [
      {
       "html": [
        "<img src=\"http://jenebaspeaks.com/wp-content/uploads/2011/05/gov_avatar-300x3001.jpg\"/>"
       ],
       "metadata": {},
       "output_type": "pyout",
       "prompt_number": 19,
       "text": [
        "<IPython.core.display.Image at 0x36ccc88>"
       ]
      }
     ],
     "prompt_number": 19
    },
    {
     "cell_type": "heading",
     "level": 4,
     "metadata": {},
     "source": [
      "We want to see if the tweet patterns and interactions of candidates has an effect on political outcomes"
     ]
    },
    {
     "cell_type": "heading",
     "level": 2,
     "metadata": {},
     "source": [
      "Questions"
     ]
    },
    {
     "cell_type": "markdown",
     "metadata": {},
     "source": [
      "**Analysis:**\n",
      "We intend to analyse the dataset on in two ways \n",
      "1. Winners vs. Losers    and\n",
      "2. Democrats vs. Republicans (as they won a majority of the races and are historically more likely to win.\n"
     ]
    },
    {
     "cell_type": "markdown",
     "metadata": {},
     "source": [
      "**Broad Questions:**\n",
      "1. Will a candidates' tweet characteristics and popularity indicate whether they will win or lose an election? \n",
      "2. Is there a significant difference in tweeting patterns for Democrats and Republicans? if yes, how does the difference contribute to win or loss of that candidate."
     ]
    },
    {
     "cell_type": "heading",
     "level": 2,
     "metadata": {},
     "source": [
      "Data Set"
     ]
    },
    {
     "cell_type": "markdown",
     "metadata": {},
     "source": [
      "Our data set consists of the tweets from every governor candidate for 30 days before the 2014 election on November 4th, and the same information for 5 different mayoral races in major cities in the U.S. during 2014. Our data set focuses exclusively on the acticity of the candidates themselves and the information they chose to share with their followers. \n"
     ]
    },
    {
     "cell_type": "markdown",
     "metadata": {},
     "source": [
      "**We extracted the following information from every tweet and candidate** \n",
      "\n",
      "1. Raw Tweet Count\n",
      "2. Tweet Characteristics:\n",
      "    - Number of characters\n",
      "    - Number of words\n",
      "    - Number of entities in a tweet such as links, #hastags, media and @user mentions\n",
      "3. Tweet Popularity:\n",
      "    - Number of retweets\n",
      "    - Number of favorites\n",
      "4. Candidate Popularity: Total number of followers for each candidate"
     ]
    },
    {
     "cell_type": "heading",
     "level": 2,
     "metadata": {},
     "source": [
      "Gathering the Data"
     ]
    },
    {
     "cell_type": "markdown",
     "metadata": {},
     "source": [
      "To gather our data we used the standard Twitter REST API, which is explained very well in Matthew A. Russell's book \"Mining the Social Web\". Using the API involves creating a standard twitter account, a developer account with twitter, and receiving the 4 necessary Authorizations from twitter which allow you to access your own twitter account to gather data. The API we used was GET.statuses.user_timeline, which returns all tweet activity for a user over a specific period of time. Using this and each candidates username we collected their tweets for a month prior to their respective election date. Below is an example which shows the data stream returned from the API for each tweet:"
     ]
    },
    {
     "cell_type": "heading",
     "level": 4,
     "metadata": {},
     "source": [
      "Altogether our ananylsis included a little over 16,000 tweets from 74 candidates in 37 elections across the United States. "
     ]
    },
    {
     "cell_type": "markdown",
     "metadata": {},
     "source": [
      "[{u'contributors': None, u'coordinates': None, u'created_at': u'Sat Nov 29 03:36:51 +0000 2014', u'entities': {u'hashtags': [], u'symbols': [], u'urls': [], u'user_mentions': [{u'id': 16136611, u'id_str': u'16136611', u'indices': [3, 12], u'name': u'Joe Hight', u'screen_name': u'JoeHight'}, {u'id': 2802622758, u'id_str': u'2802622758', u'indices': [54, 68], u'name': u'BOB at Best of Books', u'screen_name': u'bestofbooksok'}, {u'id': 16477100, u'id_str': u'16477100', u'indices': [99, 110], u'name': u'Joe Dorman', u'screen_name': u'Dorman2014'}]}, u'favorite_count': 0, u'favorited': False, u'geo': None, u'id': 538537045061566464, u'id_str': u'538537045061566464', u'in_reply_to_screen_name': None, u'in_reply_to_status_id': None, u'in_reply_to_status_id_str': None, u'in_reply_to_user_id': None, u'in_reply_to_user_id_str': None, u'lang': u'en', u'place': None, u'retweet_count': 1, u'retweeted': False, u'retweeted_status': {u'contributors': None, u'coordinates': None, u'created_at': u'Sat Nov 29 02:48:18 +0000 2014', u'entities': {u'hashtags': [], u'symbols': [], u'urls': [], u'user_mentions': [{u'id': 2802622758, u'id_str': u'2802622758', u'indices': [40, 54], u'name': u'BOB at Best of Books', u'screen_name': u'bestofbooksok'}, {u'id': 16477100, u'id_str': u'16477100', u'indices': [85, 96], u'name': u'Joe Dorman', u'screen_name': u'Dorman2014'}]}, u'favorite_count': 2, u'favorited': False, u'geo': None, u'id': 538524826747817984, u'id_str': u'538524826747817984', u'in_reply_to_screen_name': None, u'in_reply_to_status_id': None, u'in_reply_to_status_id_str': None, u'in_reply_to_user_id': None, u'in_reply_to_user_id_str': None, u'lang': u'en', u'place': None, u'retweet_count': 1, u'retweeted': False, u'source': u'Twitter for iPhone', u'text': u'Great to see political leaders visiting @bestofbooksok! Demo gubernatorial candidate @Dorman2014 stopped by today. Thanks Joe!', u'truncated': False, u'user': {u'contributors_enabled': False, u'created_at': u'Thu Sep 04 22:47:50 +0000 2008', u'default_profile': False, u'default_profile_image': False, u'description': u'Owner/president, @bestofbooksok, Edmond, OK. Always a journalist/writer. Former editor, The Gazette, Pulitzer Prize winner 2014', u'entities': {u'description': {u'urls': []}}, u'favourites_count': 902, u'follow_request_sent': False, u'followers_count': 1379, u'following': False, u'friends_count': 1333, u'geo_enabled': False, u'id': 16136611, u'id_str': u'16136611', u'is_translation_enabled': False, u'is_translator': False, u'lang': u'en', u'listed_count': 96, u'location': u'Edmond, OK', u'name': u'Joe Hight', u'notifications': False, u'profile_background_color': u'C6E2EE', u'profile_background_image_url': u'http://abs.twimg.com/images/themes/theme2/bg.gif', u'profile_background_image_url_https': u'https://abs.twimg.com/images/themes/theme2/bg.gif', u'profile_background_tile': False, u'profile_image_url': u'http://pbs.twimg.com/profile_images/62293614/joehight3_normal.jpg', u'profile_image_url_https': u'https://pbs.twimg.com/profile_images/62293614/joehight3_normal.jpg', u'profile_link_color': u'1F98C7', u'profile_location': None, u'profile_sidebar_border_color': u'C6E2EE', u'profile_sidebar_fill_color': u'DAECF4', u'profile_text_color': u'663B12', u'profile_use_background_image': True, u'protected': False, u'screen_name': u'JoeHight', u'statuses_count': 5121, u'time_zone': u'Central Time (US & Canada)', u'url': None, u'utc_offset': -21600, u'verified': False}}, u'source': u'Twitter for Android', u'text': u'RT @JoeHight: Great to see political leaders visiting @bestofbooksok! Demo gubernatorial candidate @Dorman2014 stopped by today. Thanks Joe!', u'truncated': False, u'user': {u'contributors_enabled': False, u'created_at': u'Fri Sep 26 23:33:38 +0000 2008', u'default_profile': False, u'default_profile_image': False, u'description': u'Official Twitter account of Joe Dorman, Democratic nominee for Governor of Oklahoma. Dorman is a common sense leader who will be a Governor for all Oklahomans.', u'entities': {u'description': {u'urls': []}, u'url': {u'urls': [{u'display_url': u'joedorman.com', u'expanded_url': u'http://www.joedorman.com', u'indices': [0, 22], u'url': u'http://t.co/mfvZffN4XV'}]}}, u'favourites_count': 1435, u'follow_request_sent': False, u'followers_count': 6423, u'following': False, u'friends_count': 5021, u'geo_enabled': False, u'id': 16477100, u'id_str': u'16477100', u'is_translation_enabled': False, u'is_translator': False, u'lang': u'en', u'listed_count': 197, u'location': u'Rush Springs, Oklahoma - USA', u'name': u'Joe Dorman', u'notifications': False, u'profile_background_color': u'D8F03C', u'profile_background_image_url': u'http://pbs.twimg.com/profile_background_images/458292547924672512/VvHymXCq.jpeg', u'profile_background_image_url_https': u'https://pbs.twimg.com/profile_background_images/458292547924672512/VvHymXCq.jpeg', u'profile_background_tile': False, u'profile_banner_url': u'https://pbs.twimg.com/profile_banners/16477100/1405369217', u'profile_image_url': u'http://pbs.twimg.com/profile_images/531512666385178624/ioh3qiM9_normal.jpeg', u'profile_image_url_https': u'https://pbs.twimg.com/profile_images/531512666385178624/ioh3qiM9_normal.jpeg', u'profile_link_color': u'011380', u'profile_location': None, u'profile_sidebar_border_color': u'FFFFFF', u'profile_sidebar_fill_color': u'252429', u'profile_text_color': u'666666', u'profile_use_background_image': True, u'protected': False, u'screen_name': u'Dorman2014', u'statuses_count': 6885, u'time_zone': u'Central Time (US & Canada)', u'url': u'http://t.co/mfvZffN4XV', u'utc_offset': -21600, u'verified': False}},"
     ]
    },
    {
     "cell_type": "markdown",
     "metadata": {},
     "source": [
      "Our raw data are the CSV files for each candidate. "
     ]
    },
    {
     "cell_type": "markdown",
     "metadata": {},
     "source": [
      "The cleaned data are multiple CSV files that agregate and clean the data from each candidate csv file. "
     ]
    },
    {
     "cell_type": "markdown",
     "metadata": {},
     "source": [
      "Our notebooks should be viewed from Introduction, MAE final, and then Visualizations just as our presentation went. "
     ]
    },
    {
     "cell_type": "markdown",
     "metadata": {},
     "source": [
      "In terms of building up our data, You can then view the \"Candidates\" file, then \"Master\". The Challenge area notebook also details the challenges of using the twitter API and breaking down the data stream. Running these notebooks will replace all of our data, so please do not run them. "
     ]
    },
    {
     "cell_type": "markdown",
     "metadata": {},
     "source": [
      "The MAE basic creation file uses the files created by \"Master\" to create new csv's for MAE analysis. Re-running this notebooks will also re-create the data. "
     ]
    },
    {
     "cell_type": "code",
     "collapsed": false,
     "input": [],
     "language": "python",
     "metadata": {},
     "outputs": []
    }
   ],
   "metadata": {}
  }
 ]
}