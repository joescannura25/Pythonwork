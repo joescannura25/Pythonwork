{
 "metadata": {
  "kernelspec": {
   "codemirror_mode": {
    "name": "ipython",
    "version": 2
   },
   "display_name": "IPython (Python 2)",
   "language": "python",
   "name": "python2"
  },
  "name": "",
  "signature": "sha256:b51d545bd481165aec4b18fd3c8d866902f49884a1999298f74cc02cd330284c"
 },
 "nbformat": 3,
 "nbformat_minor": 0,
 "worksheets": [
  {
   "cells": [
    {
     "cell_type": "heading",
     "level": 2,
     "metadata": {},
     "source": [
      "What this notebook does?"
     ]
    },
    {
     "cell_type": "markdown",
     "metadata": {},
     "source": [
      "This notebook\n",
      "1. Reads one 'candidate_name.csv' file at a time into a temporary dataframe\n",
      "2. Extracts out all the relevant information from the temporary dataframe\n",
      "3. Computes some additional metrics such a means and standard deviations\n",
      "4. Stores all that data into a master candidates dataframe which has information about all candidates\n",
      "5. Writes this dataframe into a .csv file so the data doesn't get polluted unknowingly\n",
      "6. Reads this .csv file into another dataframe\n",
      "7. Visualizes the data or parts of it."
     ]
    },
    {
     "cell_type": "code",
     "collapsed": false,
     "input": [
      "import pandas as pd\n",
      "import numpy as np\n",
      "%matplotlib inline\n",
      "import matplotlib\n",
      "import matplotlib.pyplot as plt\n",
      "import seaborn as sns"
     ],
     "language": "python",
     "metadata": {},
     "outputs": [],
     "prompt_number": 2
    },
    {
     "cell_type": "heading",
     "level": 4,
     "metadata": {},
     "source": [
      "Function to calculate average words per tweet and lexical diversity for each candidate"
     ]
    },
    {
     "cell_type": "code",
     "collapsed": false,
     "input": [
      "def average_words(tweets_list):\n",
      "    total_words = sum([ len(tweets.split()) for tweets in tweets_list ]) \n",
      "    return 1.0*total_words/len(tweets_list)"
     ],
     "language": "python",
     "metadata": {},
     "outputs": [],
     "prompt_number": 3
    },
    {
     "cell_type": "code",
     "collapsed": false,
     "input": [
      "def lexical_diversity_func(word_list):\n",
      "    return 1.0*len(set(word_list))/len(word_list)"
     ],
     "language": "python",
     "metadata": {},
     "outputs": [],
     "prompt_number": 4
    },
    {
     "cell_type": "heading",
     "level": 4,
     "metadata": {},
     "source": [
      "The following lists contain the raw data for the candidates being analysed including their twitter IDs"
     ]
    },
    {
     "cell_type": "code",
     "collapsed": false,
     "input": [
      "name = ['jerry_brown', 'neel_kashkari', 'butch_otter', 'anthony_balukoff', 'pat_quinn', 'bruce_rauner',\n",
      "        'terry_branstad', 'jack_hatch','sam_brownback', 'paul_davis', 'john_kasich', 'ed_fitzgerald', \n",
      "        'mary_fallin', 'joe_dorman', 'john_kitzhaber', 'dennis_richardson', 'tom_corbett', 'tom_wolf', \n",
      "        'gina_raimondo', 'allan_fung', 'nikki_haley', 'vincent_sheheen', 'dennis_daugaard', 'susan_wismer', \n",
      "        'bill_haslam', 'greg_abbott', 'wendy_davis', 'peter_shumlin', 'scott_milne', 'scott_walker', \n",
      "        'mary_burke', 'matt_mead', 'pete_gosar',  'sean_parnell','bill_walker','john_r_myers',\n",
      "        'carolyn_clift','fred_duval','doug_ducey','john_mealer','barry_hess','asa_hutchinson',\n",
      "        'josh_drake','frank_gilbert', 'john_hickenlooper','bob_beauprez','mike_dunafon','jim_rundberg',\n",
      "        'harry_hempy','matthew_hess','dan_malloy','thomas_foley','joe_visconti', 'charlie_crist',\n",
      "        'rick_scott','adrian_wyllie','farid_khavari','jason_carter','nathan_deal','andrew_hunt',\n",
      "        'david_ige','duke_aiona','mufi_hannemann', 'mitch_landrieu','michael_bagneris','greg_fischer',\n",
      "        'robert_devore','sam_liccardo','dave_cortese', 'paul_lepage', 'mike_michaud','anthony_brown',\n",
      "        'larry_hogan','martha_coakley','charlie_baker','rick_snyder','mark_schauer','jeff_johnson',\n",
      "        'mark_dayton','pete_ricketts','chuck_hassebrook','brian_sandoval','robert_goodman','maggie_hassan',\n",
      "        'walt_havenstein','susana_martinez','gary_king','andrew_cuomo','rob_astorino','kevin_faulconer', \n",
      "        'david_alvarez','ras_baraka','shavar_jeffries']   \n",
      "title = ['Governor','Governor','Governor', 'Governor','Governor', 'Governor',\n",
      "         'Governor', 'Governor','Governor', 'Governor', 'Governor', 'Governor', \n",
      "         'Governor', 'Governor', 'Governor', 'Governor', 'Governor', 'Governor', \n",
      "         'Governor', 'Governor', 'Governor', 'Governor', 'Governor', 'Governor', \n",
      "         'Governor', 'Governor', 'Governor', 'Governor', 'Governor', 'Governor', \n",
      "         'Governor', 'Governor', 'Governor', 'Governor','Governor','Governor',\n",
      "         'Governor','Governor','Governor','Governor', 'Governor','Governor',\n",
      "         'Governor','Governor',  'Governor','Governor','Governor','Governor',\n",
      "         'Governor','Governor','Governor','Governor','Governor', 'Governor',\n",
      "         'Governor','Governor','Governor','Governor','Governor','Governor',\n",
      "         'Governor','Governor','Governor','Mayor','Mayor','Mayor',\n",
      "         'Mayor','Mayor','Mayor','Governor','Governor','Governor',\n",
      "         'Governor','Governor','Governor','Governor','Governor','Governor',\n",
      "         'Governor','Governor','Governor','Governor','Governor','Governor',\n",
      "         'Governor','Governor','Governor','Governor','Governor','Mayor', \n",
      "         'Mayor','Mayor','Mayor']\n",
      "state_or_city = ['California', 'California', 'Idaho', 'Idaho', 'Illinois','Illinois',\n",
      "                 'Iowa', 'Iowa', 'Kansas','Kansas', 'Ohio', 'Ohio',\n",
      "                 'Oklahoma', 'Oklahoma', 'Oregon', 'Oregon', 'Pennsylvania', 'Pennsylvania', \n",
      "                 'Rhode_Island', 'Rhode_Island', 'South_Carolina', 'South_Carolina', 'South_Dakota', 'South_Dakota', \n",
      "                 'Tennessee', 'Texas', 'Texas', 'Vermont', 'Vermont', 'Wisconsin', \n",
      "                 'Wisconsin', 'Wyoming', 'Wyoming','Alaska','Alaska','Alaska',\n",
      "                 'Alaska','Arizona','Arizona','Arizona','Arizona','Arkansas', \n",
      "                 'Arkansas', 'Arkansas','Colorado','Colorado','Colorado','Colorado',\n",
      "                 'Colorado','Colorado', 'Connecticut','Connecticut','Connecticut', 'Florida',\n",
      "                 'Florida','Florida','Florida','Georgia','Georgia','Georgia',\n",
      "                 'Hawaii','Hawaii','Hawaii','New Orleans','New Orleans','Louisville',\n",
      "                 'Louisville', 'San Jose','San Jose','Maine', 'Maine','Maryland',\n",
      "                 'Maryland','Massachusetts','Massachusetts','Michigan','Michigan','Minnesota',\n",
      "                 'Minnesota','Nebraska','Nebraska','Nevada','Nevada','New Hampshire',\n",
      "                 'New Hampshire','New Mexico','New Mexico','New York','New York','San Diego',\n",
      "                 'San Diego','Newark','Newark']"
     ],
     "language": "python",
     "metadata": {},
     "outputs": [],
     "prompt_number": 5
    },
    {
     "cell_type": "code",
     "collapsed": false,
     "input": [
      "incumbent = ['Yes', 'No', 'Yes', 'No','Yes', 'No', 'Yes', 'No','Yes', 'No', 'Yes', 'No', \n",
      "             'Yes', 'No', 'Yes', 'No', 'Yes', 'No', 'No', 'No', 'Yes', 'No',  'Yes', 'No', \n",
      "             'Yes','No', 'No', 'Yes', 'No', 'Yes', 'No', 'Yes', 'No', 'Yes', 'No','No',\n",
      "             'No', 'No','No','No','No','No','No','No','Yes','No','No','No','No','No',\n",
      "             'Yes','No','No','No','Yes','No','No','No','Yes','No', 'No','No','No', 'Yes','No',\n",
      "             'Yes','No','No','No','Yes', 'No','No','No','No','No','Yes','No','No','Yes',\n",
      "             'No','Yes','Yes','No','Yes','No','Yes','No','Yes','No','Yes','No','Yes','No']\n",
      "party= ['Democrat','Republican','Republican','Democrat','Democrat','Republican', \n",
      "        'Republican','Democrat','Republican','Democrat','Republican', 'Democrat', \n",
      "        'Republican', 'Democrat', 'Democrat', 'Republican', 'Republican', 'Democrat', \n",
      "        'Democrat', 'Republican', 'Republican', 'Democrat','Republican', 'Democrat', \n",
      "        'Republican', 'Republican', 'Democrat', 'Democrat',  'Republican', 'Republican', \n",
      "        'Democrat', 'Republican', 'Democrat', 'Republican','Independent','Constitution',\n",
      "        'Libertarian','Democrat','Republican','Americans elect','Libertarian','Republican',\n",
      "        'Green','Libertarian', 'Democrat','Republican','Independent','Independent',\n",
      "        'Green','Libertarian', 'Democrat','Republican','Independent','Democrat',\n",
      "        'Republican', 'Libertarian','No Party Affiliation','Democrat','Republican','Libertarian',\n",
      "        'Democrat','Republican','Independent', 'Democrat','Democrat','Democrat',\n",
      "        'Republican', 'Democrat','Democrat','Republican','Democrat','Democrat',\n",
      "        'Republican','Democrat','Republican','Republican','Democrat', 'Republican',\n",
      "        'Democrat','Republican','Democrat', 'Republican','Democrat','Democrat',\n",
      "        'Republican','Republican','Democrat','Democrat','Republican','Republican',\n",
      "        'Democrat','Democrat','Republican']\n",
      "result = ['W','L', 'W','L','L','W', 'W','L', 'W', 'L', 'W', 'L', 'W', 'L', 'W', 'L', 'L', 'W', \n",
      "          'W', 'L', 'W', 'L', 'W', 'L',  'W', 'W', 'L',  'W', 'W', 'W', 'L', 'W', 'L', 'L',\n",
      "          'W','L','L','L','W','L','L','W','W','L', 'W','L','L','L','L','L','W','L','L','L','W',\n",
      "          'L','L','L','W','L','W','L','L', 'W','L','W','L','W','L','W','L','L','W','L','W','W',\n",
      "          'L','L','W','W','L','W','L','W','L','W','L','W','L','W','L','W','L']\n",
      "twitter_username = ['JerryBrownGov','neelkashkari', 'OtterforIdaho', 'AJforIdaho','GovernorQuinn','BruceRaunerHQ',\n",
      "                    'TerryBranstad','Senator_Hatch','brownbackforgov','PaulDavisKS', 'JohnKasich', 'FitzGeraldForOH',\n",
      "                    'GovMaryFallin', 'Dorman2014', 'KitzForGov','DRichardsonOR', 'CorbettforGov', 'WolfForPA', \n",
      "                    'GinaForRI', 'MayorFung', 'nikkihaley', 'vincentsheheen', 'dennisdaugaard', 'SusanForSD', \n",
      "                    'BillHaslam', 'GregAbbott_TX', 'WendyDavisTexas', 'petershumlin', 'MilneForVT', 'ScottWalker', \n",
      "                    'Burke4Wi', 'GovMattMead', 'gosar4gov', 'AKGovParnell','walkerforakgov','JohricmyeJ',\n",
      "                    'MsLibertarian', 'FredDuVal','dougducey','johnlewismealer', 'hess4governor','AsaHutchinson',\n",
      "                    'Drake4Governor','gilbertforgov', 'hickforco','bobbeauprez','Dunafon4Gov','JimRundberg',\n",
      "                    'hempy4governor','mxhess','GovMalloyOffice','TomFoleyCT','JoeVisconti2014', 'CharlieCrist',\n",
      "                    'FLGovScott', 'WyllieForGov','Farid_Khavari','carter4governor','NathanDeal','AndrewHuntGA',\n",
      "                    'DavidIge2014', 'DukeAiona2014','MufiHannemann', 'MitchLandrieu','Bagneris4Mayor', 'louisvillemayor',\n",
      "                    'ROBERTDEVORE502','sliccardo','DaveCortese','lepage2014','Michaud2014','BrownforMD',\n",
      "                    'Hogan4Governor','marthacoakley','CharlieBakerMA','RickForMI','MarkSchauer', 'Jeff4Gov',\n",
      "                    'Mark_Dayton','RickettsForGov','Vote4Chuck','BrianSandoval','Goodman4Nevada','Maggie_Hassan',\n",
      "                    'Walt4NH','Gov_Martinez','GaryKingforGov','NYGovCuomo','RobAstorino','kevin_faulconer',\n",
      "                    'AlvarezSD','rasjbaraka','shavarjeffries'] "
     ],
     "language": "python",
     "metadata": {},
     "outputs": [],
     "prompt_number": 6
    },
    {
     "cell_type": "code",
     "collapsed": false,
     "input": [
      "assert len(name)==len(title)==len(state_or_city)==len(incumbent)==len(party)==len(result)==len(twitter_username)"
     ],
     "language": "python",
     "metadata": {},
     "outputs": [],
     "prompt_number": 7
    },
    {
     "cell_type": "code",
     "collapsed": false,
     "input": [
      "follower_count = []\n",
      "tweets_count = []\n",
      "retweet_count = []\n",
      "avg_retweets = []\n",
      "std_retweets = []\n",
      "favorite_count = []\n",
      "avg_favorite = []\n",
      "std_favorite = []\n",
      "avg_tweet_length = []\n",
      "avg_entities = []\n",
      "avg_words = []\n",
      "lexical_diversity = []\n",
      "counts_frame_combine = pd.DataFrame()"
     ],
     "language": "python",
     "metadata": {},
     "outputs": [],
     "prompt_number": 8
    },
    {
     "cell_type": "markdown",
     "metadata": {},
     "source": [
      "The following 'for loop' reads the individual csv files one at a time to extract relevant information and store it in unique lists initialised above"
     ]
    },
    {
     "cell_type": "code",
     "collapsed": false,
     "input": [
      "for i in range(len(name)):\n",
      "    candidate_df = pd.read_csv(name[i]+'.csv', index_col = 0)\n",
      "    \n",
      "    stats = candidate_df.describe()\n",
      "\n",
      "    follower_count.append(stats.follower_count['mean'])\n",
      "    tweets_count.append(len(candidate_df))\n",
      "    retweet_count.append(candidate_df['retweet_count'].sum())\n",
      "    avg_retweets.append(stats.retweet_count['mean'])\n",
      "    std_retweets.append(stats.retweet_count['std'])\n",
      "    favorite_count.append(candidate_df['favorite_count'].sum())\n",
      "    avg_favorite.append(stats.favorite_count['mean'])\n",
      "    std_favorite.append(stats.favorite_count['std'])\n",
      "    avg_tweet_length.append(stats.tweet_length['mean'])\n",
      "    avg_entities.append(stats.total_entities['mean'])\n",
      "    \n",
      "    \n",
      "    tweets_series = candidate_df.tweet_text.str.lower()\n",
      "\n",
      "    word_list = []\n",
      "    j=0\n",
      "    for j in range(len(tweets_series)):\n",
      "        single_tweet = tweets_series[j].split(' ')\n",
      "        for words in single_tweet:\n",
      "            words = words.strip(',')\n",
      "            words = words.strip('!')\n",
      "            words = words.strip('.')\n",
      "            words = words.strip(':')\n",
      "            words = words.strip('-')\n",
      "            words = words.strip(';')\n",
      "            word_list.append(words)\n",
      "        \n",
      "    avg_words.append(average_words(tweets_series))\n",
      "    lexical_diversity.append(lexical_diversity_func(word_list))\n",
      "    \n",
      "    word_frame = pd.DataFrame(word_list, columns = ['words'])\n",
      "    counts_frame = pd.DataFrame(word_frame.words.value_counts(), columns = [name[i]])\n",
      "    counts_frame = counts_frame[counts_frame[name[i]]>=3]\n",
      "    counts_frame_combine = pd.merge(counts_frame_combine, counts_frame, left_index=True, right_index=True, how='outer')"
     ],
     "language": "python",
     "metadata": {},
     "outputs": [],
     "prompt_number": 9
    },
    {
     "cell_type": "markdown",
     "metadata": {},
     "source": [
      "Creating a dictionary for candidates data using the lists created above"
     ]
    },
    {
     "cell_type": "code",
     "collapsed": false,
     "input": [
      "candidates_dict = {'name': name,\n",
      "                   'title': title, \n",
      "                   'state': state_or_city,\n",
      "                   'incumbent': incumbent,\n",
      "                   'party': party,\n",
      "                   'result': result,\n",
      "                   'twitter_username': twitter_username,\n",
      "                   'follower_count': follower_count,\n",
      "                   'tweets_count': tweets_count,\n",
      "                   'retweet_count': retweet_count,\n",
      "                   'avg_retweets': avg_retweets,\n",
      "                   'std_retweets':std_retweets,\n",
      "                   'favorite_count':favorite_count,\n",
      "                   'avg_favorite':avg_favorite,\n",
      "                   'std_favorite':std_favorite,\n",
      "                   'avg_tweet_length': avg_tweet_length,\n",
      "                   'avg_entities': avg_entities,\n",
      "                   'avg_words': avg_words,\n",
      "                   'lexical_diversity': lexical_diversity}"
     ],
     "language": "python",
     "metadata": {},
     "outputs": [],
     "prompt_number": 10
    },
    {
     "cell_type": "heading",
     "level": 3,
     "metadata": {},
     "source": [
      "Creating the CANDIDATES DATAFRAME which is the dataframe containing all relevant data for each candidate"
     ]
    },
    {
     "cell_type": "code",
     "collapsed": false,
     "input": [
      "candidates = pd.DataFrame(candidates_dict, columns=['name','state','party','incumbent','title','result','twitter_username',\n",
      "                                                    'follower_count','tweets_count','avg_tweet_length', 'avg_words',\n",
      "                                                    'retweet_count','avg_retweets','std_retweets','favorite_count',\n",
      "                                                    'avg_favorite','std_favorite','avg_entities','lexical_diversity'])"
     ],
     "language": "python",
     "metadata": {},
     "outputs": [],
     "prompt_number": 11
    },
    {
     "cell_type": "code",
     "collapsed": false,
     "input": [
      "new_array = np.where(candidates.incumbent=='Yes', 1, 0)\n",
      "candidates['incumbent_code'] = new_array"
     ],
     "language": "python",
     "metadata": {},
     "outputs": [],
     "prompt_number": 18
    },
    {
     "cell_type": "code",
     "collapsed": false,
     "input": [
      "candidates.head(5)"
     ],
     "language": "python",
     "metadata": {},
     "outputs": [
      {
       "html": [
        "<div style=\"max-height:1000px;max-width:1500px;overflow:auto;\">\n",
        "<table border=\"1\" class=\"dataframe\">\n",
        "  <thead>\n",
        "    <tr style=\"text-align: right;\">\n",
        "      <th></th>\n",
        "      <th>name</th>\n",
        "      <th>state</th>\n",
        "      <th>party</th>\n",
        "      <th>incumbent</th>\n",
        "      <th>title</th>\n",
        "      <th>result</th>\n",
        "      <th>twitter_username</th>\n",
        "      <th>follower_count</th>\n",
        "      <th>tweets_count</th>\n",
        "      <th>avg_tweet_length</th>\n",
        "      <th>avg_words</th>\n",
        "      <th>retweet_count</th>\n",
        "      <th>avg_retweets</th>\n",
        "      <th>std_retweets</th>\n",
        "      <th>favorite_count</th>\n",
        "      <th>avg_favorite</th>\n",
        "      <th>std_favorite</th>\n",
        "      <th>avg_entities</th>\n",
        "      <th>lexical_diversity</th>\n",
        "      <th>incumbent_code</th>\n",
        "    </tr>\n",
        "  </thead>\n",
        "  <tbody>\n",
        "    <tr>\n",
        "      <th>0</th>\n",
        "      <td>      jerry_brown</td>\n",
        "      <td> California</td>\n",
        "      <td>   Democrat</td>\n",
        "      <td> Yes</td>\n",
        "      <td> Governor</td>\n",
        "      <td> W</td>\n",
        "      <td> JerryBrownGov</td>\n",
        "      <td> 1046667</td>\n",
        "      <td>  42</td>\n",
        "      <td>  99.833333</td>\n",
        "      <td> 12.785714</td>\n",
        "      <td> 1645</td>\n",
        "      <td> 39.166667</td>\n",
        "      <td>  47.974544</td>\n",
        "      <td> 857</td>\n",
        "      <td> 20.404762</td>\n",
        "      <td> 47.269884</td>\n",
        "      <td> 2.785714</td>\n",
        "      <td> 0.570160</td>\n",
        "      <td> 1</td>\n",
        "    </tr>\n",
        "    <tr>\n",
        "      <th>1</th>\n",
        "      <td>    neel_kashkari</td>\n",
        "      <td> California</td>\n",
        "      <td> Republican</td>\n",
        "      <td>  No</td>\n",
        "      <td> Governor</td>\n",
        "      <td> L</td>\n",
        "      <td>  neelkashkari</td>\n",
        "      <td>    6542</td>\n",
        "      <td> 168</td>\n",
        "      <td> 103.619048</td>\n",
        "      <td> 14.672619</td>\n",
        "      <td> 4143</td>\n",
        "      <td> 24.660714</td>\n",
        "      <td> 187.299908</td>\n",
        "      <td> 672</td>\n",
        "      <td>  4.000000</td>\n",
        "      <td>  5.346665</td>\n",
        "      <td> 1.988095</td>\n",
        "      <td> 0.429591</td>\n",
        "      <td> 0</td>\n",
        "    </tr>\n",
        "    <tr>\n",
        "      <th>2</th>\n",
        "      <td>      butch_otter</td>\n",
        "      <td>      Idaho</td>\n",
        "      <td> Republican</td>\n",
        "      <td> Yes</td>\n",
        "      <td> Governor</td>\n",
        "      <td> W</td>\n",
        "      <td> OtterforIdaho</td>\n",
        "      <td>    1165</td>\n",
        "      <td> 372</td>\n",
        "      <td> 120.440860</td>\n",
        "      <td> 18.373656</td>\n",
        "      <td>  217</td>\n",
        "      <td>  0.583333</td>\n",
        "      <td>   1.170639</td>\n",
        "      <td> 116</td>\n",
        "      <td>  0.311828</td>\n",
        "      <td>  0.766249</td>\n",
        "      <td> 3.618280</td>\n",
        "      <td> 0.242886</td>\n",
        "      <td> 1</td>\n",
        "    </tr>\n",
        "    <tr>\n",
        "      <th>3</th>\n",
        "      <td> anthony_balukoff</td>\n",
        "      <td>      Idaho</td>\n",
        "      <td>   Democrat</td>\n",
        "      <td>  No</td>\n",
        "      <td> Governor</td>\n",
        "      <td> L</td>\n",
        "      <td>    AJforIdaho</td>\n",
        "      <td>    1718</td>\n",
        "      <td> 272</td>\n",
        "      <td> 114.988971</td>\n",
        "      <td> 17.283088</td>\n",
        "      <td>  694</td>\n",
        "      <td>  2.551471</td>\n",
        "      <td>   2.694315</td>\n",
        "      <td> 698</td>\n",
        "      <td>  2.566176</td>\n",
        "      <td>  2.880657</td>\n",
        "      <td> 3.143382</td>\n",
        "      <td> 0.307789</td>\n",
        "      <td> 0</td>\n",
        "    </tr>\n",
        "    <tr>\n",
        "      <th>4</th>\n",
        "      <td>        pat_quinn</td>\n",
        "      <td>   Illinois</td>\n",
        "      <td>   Democrat</td>\n",
        "      <td> Yes</td>\n",
        "      <td> Governor</td>\n",
        "      <td> L</td>\n",
        "      <td> GovernorQuinn</td>\n",
        "      <td>   20115</td>\n",
        "      <td>  56</td>\n",
        "      <td> 130.767857</td>\n",
        "      <td> 18.321429</td>\n",
        "      <td>  538</td>\n",
        "      <td>  9.607143</td>\n",
        "      <td>   5.983853</td>\n",
        "      <td> 309</td>\n",
        "      <td>  5.517857</td>\n",
        "      <td>  4.771091</td>\n",
        "      <td> 2.017857</td>\n",
        "      <td> 0.507205</td>\n",
        "      <td> 1</td>\n",
        "    </tr>\n",
        "  </tbody>\n",
        "</table>\n",
        "</div>"
       ],
       "metadata": {},
       "output_type": "pyout",
       "prompt_number": 19,
       "text": [
        "               name       state       party incumbent     title result  \\\n",
        "0       jerry_brown  California    Democrat       Yes  Governor      W   \n",
        "1     neel_kashkari  California  Republican        No  Governor      L   \n",
        "2       butch_otter       Idaho  Republican       Yes  Governor      W   \n",
        "3  anthony_balukoff       Idaho    Democrat        No  Governor      L   \n",
        "4         pat_quinn    Illinois    Democrat       Yes  Governor      L   \n",
        "\n",
        "  twitter_username  follower_count  tweets_count  avg_tweet_length  avg_words  \\\n",
        "0    JerryBrownGov         1046667            42         99.833333  12.785714   \n",
        "1     neelkashkari            6542           168        103.619048  14.672619   \n",
        "2    OtterforIdaho            1165           372        120.440860  18.373656   \n",
        "3       AJforIdaho            1718           272        114.988971  17.283088   \n",
        "4    GovernorQuinn           20115            56        130.767857  18.321429   \n",
        "\n",
        "   retweet_count  avg_retweets  std_retweets  favorite_count  avg_favorite  \\\n",
        "0           1645     39.166667     47.974544             857     20.404762   \n",
        "1           4143     24.660714    187.299908             672      4.000000   \n",
        "2            217      0.583333      1.170639             116      0.311828   \n",
        "3            694      2.551471      2.694315             698      2.566176   \n",
        "4            538      9.607143      5.983853             309      5.517857   \n",
        "\n",
        "   std_favorite  avg_entities  lexical_diversity  incumbent_code  \n",
        "0     47.269884      2.785714           0.570160               1  \n",
        "1      5.346665      1.988095           0.429591               0  \n",
        "2      0.766249      3.618280           0.242886               1  \n",
        "3      2.880657      3.143382           0.307789               0  \n",
        "4      4.771091      2.017857           0.507205               1  "
       ]
      }
     ],
     "prompt_number": 19
    },
    {
     "cell_type": "code",
     "collapsed": false,
     "input": [
      "candidates.info()"
     ],
     "language": "python",
     "metadata": {},
     "outputs": [
      {
       "output_type": "stream",
       "stream": "stdout",
       "text": [
        "<class 'pandas.core.frame.DataFrame'>\n",
        "Int64Index: 93 entries, 0 to 92\n",
        "Data columns (total 20 columns):\n",
        "name                 93 non-null object\n",
        "state                93 non-null object\n",
        "party                93 non-null object\n",
        "incumbent            93 non-null object\n",
        "title                93 non-null object\n",
        "result               93 non-null object\n",
        "twitter_username     93 non-null object\n",
        "follower_count       93 non-null float64\n",
        "tweets_count         93 non-null int64\n",
        "avg_tweet_length     93 non-null float64\n",
        "avg_words            93 non-null float64\n",
        "retweet_count        93 non-null float64\n",
        "avg_retweets         93 non-null float64\n",
        "std_retweets         93 non-null float64\n",
        "favorite_count       93 non-null float64\n",
        "avg_favorite         93 non-null float64\n",
        "std_favorite         93 non-null float64\n",
        "avg_entities         93 non-null float64\n",
        "lexical_diversity    93 non-null float64\n",
        "incumbent_code       93 non-null int64\n",
        "dtypes: float64(11), int64(2), object(7)\n",
        "memory usage: 15.3 KB\n"
       ]
      }
     ],
     "prompt_number": 20
    },
    {
     "cell_type": "heading",
     "level": 4,
     "metadata": {},
     "source": [
      "Writing the FINAL DATAFRAME to a csv file to be used as needed while retaining the original data in the .csv file"
     ]
    },
    {
     "cell_type": "code",
     "collapsed": false,
     "input": [
      "candidates.to_csv('candidates.csv') "
     ],
     "language": "python",
     "metadata": {},
     "outputs": [],
     "prompt_number": 21
    },
    {
     "cell_type": "heading",
     "level": 4,
     "metadata": {},
     "source": [
      "Reading the data into a dataframe to perform graphical analysis.  "
     ]
    },
    {
     "cell_type": "code",
     "collapsed": false,
     "input": [
      "df = pd.read_csv('candidates.csv', index_col = 0)"
     ],
     "language": "python",
     "metadata": {},
     "outputs": [],
     "prompt_number": 23
    },
    {
     "cell_type": "code",
     "collapsed": false,
     "input": [
      "len(df)"
     ],
     "language": "python",
     "metadata": {},
     "outputs": [
      {
       "metadata": {},
       "output_type": "pyout",
       "prompt_number": 24,
       "text": [
        "93"
       ]
      }
     ],
     "prompt_number": 24
    },
    {
     "cell_type": "heading",
     "level": 4,
     "metadata": {},
     "source": [
      "Creating another datafrome with only democrat or republican candidates"
     ]
    },
    {
     "cell_type": "code",
     "collapsed": false,
     "input": [
      "df.party.unique()"
     ],
     "language": "python",
     "metadata": {},
     "outputs": [
      {
       "metadata": {},
       "output_type": "pyout",
       "prompt_number": 25,
       "text": [
        "array(['Democrat', 'Republican', 'Independent', 'Constitution',\n",
        "       'Libertarian', 'Americans elect', 'Green', 'No Party Affiliation'], dtype=object)"
       ]
      }
     ],
     "prompt_number": 25
    },
    {
     "cell_type": "code",
     "collapsed": false,
     "input": [
      "new_df = df[(df.party=='Republican') | (df.party == 'Democrat')]"
     ],
     "language": "python",
     "metadata": {},
     "outputs": [],
     "prompt_number": 26
    },
    {
     "cell_type": "code",
     "collapsed": false,
     "input": [
      "len(new_df)"
     ],
     "language": "python",
     "metadata": {},
     "outputs": [
      {
       "metadata": {},
       "output_type": "pyout",
       "prompt_number": 27,
       "text": [
        "77"
       ]
      }
     ],
     "prompt_number": 27
    },
    {
     "cell_type": "code",
     "collapsed": false,
     "input": [
      "new_df.to_csv('new_df.csv')"
     ],
     "language": "python",
     "metadata": {},
     "outputs": [],
     "prompt_number": 28
    }
   ],
   "metadata": {}
  }
 ]
}