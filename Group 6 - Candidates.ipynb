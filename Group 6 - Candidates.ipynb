{
 "metadata": {
  "kernelspec": {
   "codemirror_mode": {
    "name": "ipython",
    "version": 2
   },
   "display_name": "IPython (Python 2)",
   "language": "python",
   "name": "python2"
  },
  "name": "",
  "signature": "sha256:9fef0a5481601e628b0ebda2a3760742ba0e5cbd9673ce31b0c853d249ef5832"
 },
 "nbformat": 3,
 "nbformat_minor": 0,
 "worksheets": [
  {
   "cells": [
    {
     "cell_type": "heading",
     "level": 2,
     "metadata": {},
     "source": [
      "What this notebook does?"
     ]
    },
    {
     "cell_type": "markdown",
     "metadata": {},
     "source": [
      "This notebook \n",
      "1. Gets information on all the tweets for a single candidate\n",
      "2. Extracts the relevant metadata from each tweet  \n",
      "3. Accumulates the metadata in a dataframe\n",
      "4. Stores the information in a 'candidate_name.csv' file\n",
      "\n",
      "This notebook was run for each political candidate. \n",
      "\n",
      "**Note:** Rate limitations prevent us from creating a sophisticated loop to fetch the information automatically instead of going through it manually"
     ]
    },
    {
     "cell_type": "code",
     "collapsed": false,
     "input": [
      "import twitter\n",
      "import pandas as pd\n",
      "import numpy as np\n",
      "import json\n",
      "import datetime\n",
      "from dateutil.parser import parse"
     ],
     "language": "python",
     "metadata": {},
     "outputs": [],
     "prompt_number": 1
    },
    {
     "cell_type": "heading",
     "level": 2,
     "metadata": {},
     "source": [
      "Authorization and Creating a twitter Object"
     ]
    },
    {
     "cell_type": "code",
     "collapsed": false,
     "input": [
      "CONSUMER_KEY = 'SpyfRc8zvCZrReQ9fzKRwaUvt'\n",
      "CONSUMER_SECRET = 't0b2tBFOygVHTNG62fx0r01bapw1iIi0CfEICidHxBwxDP83bU'\n",
      "OAUTH_TOKEN = '1317095682-w3W35wdJPSRPuOYsTQCpfJZj8ynHvvT3bCZQeaZ'\n",
      "OAUTH_TOKEN_SECRET = 'aFM8Ll5QJoimyL1mSHOixk4AwC2nY3oGaZE4TpEsIYlrA'"
     ],
     "language": "python",
     "metadata": {},
     "outputs": [],
     "prompt_number": 2
    },
    {
     "cell_type": "code",
     "collapsed": false,
     "input": [
      "auth = twitter.oauth.OAuth(OAUTH_TOKEN, OAUTH_TOKEN_SECRET, CONSUMER_KEY, CONSUMER_SECRET)"
     ],
     "language": "python",
     "metadata": {},
     "outputs": [],
     "prompt_number": 3
    },
    {
     "cell_type": "code",
     "collapsed": false,
     "input": [
      "t = twitter.Twitter(auth=auth) #creating a twitter object t"
     ],
     "language": "python",
     "metadata": {},
     "outputs": [],
     "prompt_number": 4
    },
    {
     "cell_type": "heading",
     "level": 2,
     "metadata": {},
     "source": [
      "Candidate Information"
     ]
    },
    {
     "cell_type": "code",
     "collapsed": false,
     "input": [
      "name = ['jerry_brown', 'neel_kashkari', 'butch_otter', 'anthony_balukoff', 'pat_quinn', \n",
      "        'bruce_rauner','terry_branstad', 'jack_hatch','sam_brownback', 'paul_davis']   \n",
      "title = ['Governor','Governor','Governor', 'Governor','Governor', \n",
      "         'Governor','Governor', 'Governor','Governor', 'Governor']\n",
      "state_or_city = ['California', 'California', 'Idaho', 'Idaho', 'Illinois',\n",
      "                 'Illinois','Iowa', 'Iowa', 'Kansas','Kansas']\n",
      "incumbent = ['Yes', 'No', 'Yes', 'No','Yes',\n",
      "             'No','Yes', 'No','Yes', 'No']\n",
      "party = ['Democrat','Republican','Republican','Democrat','Democrat',\n",
      "                         'Republican','Republican','Democrat','Republican','Democrat', ]\n",
      "result = ['W','L', 'W','L','L',\n",
      "          'W','W','L', 'W', 'L' ]\n",
      "twitter_username = ['JerryBrownGov','neelkashkari', 'OtterforIdaho', 'AJforIdaho','GovernorQuinn',\n",
      "                    'BruceRaunerHQ','TerryBranstad','Senator_Hatch','brownbackforgov','PaulDavisKS']   "
     ],
     "language": "python",
     "metadata": {},
     "outputs": [],
     "prompt_number": 5
    },
    {
     "cell_type": "code",
     "collapsed": false,
     "input": [
      "candidates = {'Name': name,\n",
      "              'Title': title,\n",
      "              'State or City': state_or_city,\n",
      "              'Incumbent': incumbent,\n",
      "              'Party': party,\n",
      "              'Result': result,\n",
      "              'Twitter_username': twitter_username}"
     ],
     "language": "python",
     "metadata": {},
     "outputs": [],
     "prompt_number": 6
    },
    {
     "cell_type": "heading",
     "level": 2,
     "metadata": {},
     "source": [
      "Fetching the user timeline information "
     ]
    },
    {
     "cell_type": "code",
     "collapsed": false,
     "input": [
      "user_timeline = t.statuses.user_timeline(screen_name='JerryBrownGov', count=200) \n",
      "\n",
      "print \"the oldest date in user_timeline is \",user_timeline[len(user_timeline)-1][\"created_at\"]"
     ],
     "language": "python",
     "metadata": {},
     "outputs": [
      {
       "output_type": "stream",
       "stream": "stdout",
       "text": [
        "the oldest date in user_timeline is  Sun Jun 09 22:01:17 +0000 2013\n"
       ]
      }
     ],
     "prompt_number": 7
    },
    {
     "cell_type": "heading",
     "level": 4,
     "metadata": {},
     "source": [
      "Rate Limitation: For each statuses.user_timeline API call, we can only get upto 200 tweets. Furthermore you can only do 15 API calls every 15 minutes."
     ]
    },
    {
     "cell_type": "markdown",
     "metadata": {},
     "source": [
      "We want all tweets from Nov 4th going back until Oct 5th (including both those dates) to cover a 30 day period. So we make additional API calls to get more tweets untill the oldest date in the user_timeline is older than Oct 5th. "
     ]
    },
    {
     "cell_type": "heading",
     "level": 6,
     "metadata": {},
     "source": [
      "Markdown line 1:  "
     ]
    },
    {
     "cell_type": "markdown",
     "metadata": {},
     "source": [
      "user_timeline2 = t.statuses.user_timeline(screen_name='Senator_Hatch', count=200, \n",
      "                                          max_id = user_timeline[len(user_timeline)-1][\"id\"])\n",
      "                                            \n",
      "user_timeline = user_timeline + user_timeline2[1:]\n",
      "\n",
      "print \"the oldest date in user_timeline is \",user_timeline[len(user_timeline)-1][\"created_at\"]"
     ]
    },
    {
     "cell_type": "heading",
     "level": 6,
     "metadata": {},
     "source": [
      "Markdown line 2"
     ]
    },
    {
     "cell_type": "markdown",
     "metadata": {},
     "source": [
      "user_timeline3 = t.statuses.user_timeline(screen_name='Senator_Hatch', count=200, \n",
      "                                        max_id = user_timeline2[len(user_timeline2)-1][\"id\"])\n",
      "\n",
      "user_timeline = user_timeline + user_timeline3[1:]\n",
      "\n",
      "print \"the oldest date in user_timeline is \",user_timeline[len(user_timeline)-1][\"created_at\"]"
     ]
    },
    {
     "cell_type": "heading",
     "level": 2,
     "metadata": {},
     "source": [
      "NESTED  DICTIONARIES: The structure of a single tweet in user_timeline"
     ]
    },
    {
     "cell_type": "code",
     "collapsed": false,
     "input": [
      "print json.dumps(user_timeline[0], indent=7) "
     ],
     "language": "python",
     "metadata": {},
     "outputs": [
      {
       "output_type": "stream",
       "stream": "stdout",
       "text": [
        "{\n",
        "       \"contributors\": null, \n",
        "       \"truncated\": false, \n",
        "       \"text\": \"Tonight, in the face of Washington gridlock, the president stepped up for hard-working families across America: http://t.co/eFDV5Mounk\", \n",
        "       \"in_reply_to_status_id\": null, \n",
        "       \"id\": 535607491472928769, \n",
        "       \"favorite_count\": 224, \n",
        "       \"source\": \"<a href=\\\"http://twitter.com/download/iphone\\\" rel=\\\"nofollow\\\">Twitter for iPhone</a>\", \n",
        "       \"retweeted\": false, \n",
        "       \"coordinates\": null, \n",
        "       \"entities\": {\n",
        "              \"symbols\": [], \n",
        "              \"user_mentions\": [], \n",
        "              \"hashtags\": [], \n",
        "              \"urls\": [\n",
        "                     {\n",
        "                            \"url\": \"http://t.co/eFDV5Mounk\", \n",
        "                            \"indices\": [\n",
        "                                   112, \n",
        "                                   134\n",
        "                            ], \n",
        "                            \"expanded_url\": \"http://bit.ly/1r2oaFj\", \n",
        "                            \"display_url\": \"bit.ly/1r2oaFj\"\n",
        "                     }\n",
        "              ]\n",
        "       }, \n",
        "       \"in_reply_to_screen_name\": null, \n",
        "       \"id_str\": \"535607491472928769\", \n",
        "       \"retweet_count\": 302, \n",
        "       \"in_reply_to_user_id\": null, \n",
        "       \"favorited\": false, \n",
        "       \"user\": {\n",
        "              \"follow_request_sent\": false, \n",
        "              \"profile_use_background_image\": false, \n",
        "              \"profile_text_color\": \"333333\", \n",
        "              \"default_profile_image\": false, \n",
        "              \"id\": 19418459, \n",
        "              \"profile_background_image_url_https\": \"https://abs.twimg.com/images/themes/theme14/bg.gif\", \n",
        "              \"verified\": true, \n",
        "              \"profile_location\": null, \n",
        "              \"profile_image_url_https\": \"https://pbs.twimg.com/profile_images/533387964772929536/bzWw-mHV_normal.jpeg\", \n",
        "              \"profile_sidebar_fill_color\": \"EFEFEF\", \n",
        "              \"entities\": {\n",
        "                     \"url\": {\n",
        "                            \"urls\": [\n",
        "                                   {\n",
        "                                          \"url\": \"http://t.co/1K8ra1Cvbg\", \n",
        "                                          \"indices\": [\n",
        "                                                 0, \n",
        "                                                 22\n",
        "                                          ], \n",
        "                                          \"expanded_url\": \"http://www.jerrybrown.org\", \n",
        "                                          \"display_url\": \"jerrybrown.org\"\n",
        "                                   }\n",
        "                            ]\n",
        "                     }, \n",
        "                     \"description\": {\n",
        "                            \"urls\": [\n",
        "                                   {\n",
        "                                          \"url\": \"http://t.co/ZhAotX27jb\", \n",
        "                                          \"indices\": [\n",
        "                                                 16, \n",
        "                                                 38\n",
        "                                          ], \n",
        "                                          \"expanded_url\": \"http://facebook.com/jerrybrown\", \n",
        "                                          \"display_url\": \"facebook.com/jerrybrown\"\n",
        "                                   }\n",
        "                            ]\n",
        "                     }\n",
        "              }, \n",
        "              \"followers_count\": 1046632, \n",
        "              \"profile_sidebar_border_color\": \"EEEEEE\", \n",
        "              \"id_str\": \"19418459\", \n",
        "              \"profile_background_color\": \"131516\", \n",
        "              \"listed_count\": 4777, \n",
        "              \"is_translation_enabled\": false, \n",
        "              \"utc_offset\": -28800, \n",
        "              \"statuses_count\": 1912, \n",
        "              \"description\": \"On Facebook at: http://t.co/ZhAotX27jb\", \n",
        "              \"friends_count\": 31, \n",
        "              \"location\": \"California\", \n",
        "              \"profile_link_color\": \"009999\", \n",
        "              \"profile_image_url\": \"http://pbs.twimg.com/profile_images/533387964772929536/bzWw-mHV_normal.jpeg\", \n",
        "              \"following\": false, \n",
        "              \"geo_enabled\": true, \n",
        "              \"profile_banner_url\": \"https://pbs.twimg.com/profile_banners/19418459/1398447193\", \n",
        "              \"profile_background_image_url\": \"http://abs.twimg.com/images/themes/theme14/bg.gif\", \n",
        "              \"name\": \"Jerry Brown\", \n",
        "              \"lang\": \"en\", \n",
        "              \"profile_background_tile\": true, \n",
        "              \"favourites_count\": 73, \n",
        "              \"screen_name\": \"JerryBrownGov\", \n",
        "              \"notifications\": false, \n",
        "              \"url\": \"http://t.co/1K8ra1Cvbg\", \n",
        "              \"created_at\": \"Fri Jan 23 22:42:45 +0000 2009\", \n",
        "              \"contributors_enabled\": false, \n",
        "              \"time_zone\": \"Pacific Time (US & Canada)\", \n",
        "              \"protected\": false, \n",
        "              \"default_profile\": false, \n",
        "              \"is_translator\": false\n",
        "       }, \n",
        "       \"geo\": null, \n",
        "       \"in_reply_to_user_id_str\": null, \n",
        "       \"possibly_sensitive\": false, \n",
        "       \"lang\": \"en\", \n",
        "       \"created_at\": \"Fri Nov 21 01:35:51 +0000 2014\", \n",
        "       \"in_reply_to_status_id_str\": null, \n",
        "       \"place\": null\n",
        "}\n"
       ]
      }
     ],
     "prompt_number": 8
    },
    {
     "cell_type": "heading",
     "level": 2,
     "metadata": {},
     "source": [
      "Extracting Relevant information from the timeline"
     ]
    },
    {
     "cell_type": "code",
     "collapsed": false,
     "input": [
      "date = []    \n",
      "retweet_count = []\n",
      "favorite_count = []\n",
      "tweet_id = []\n",
      "follower_count = []\n",
      "url_count = []\n",
      "hashtag_count = []\n",
      "media_count = []\n",
      "user_mentions_count = []\n",
      "tweet_text = []\n",
      "tweet_length = []"
     ],
     "language": "python",
     "metadata": {},
     "outputs": [],
     "prompt_number": 9
    },
    {
     "cell_type": "code",
     "collapsed": false,
     "input": [
      "for i in range(len(user_timeline)):\n",
      "    temp_date=user_timeline[i][\"created_at\"].split(\" \")\n",
      "    del temp_date[4]\n",
      "    temp_date = ' '.join(temp_date)\n",
      "    temp_date = (datetime.datetime.strptime(temp_date,\"%a %b %d %H:%M:%S %Y\")).date()\n",
      "    date.append(temp_date)\n",
      "    retweet_count.append(user_timeline[i][\"retweet_count\"])\n",
      "    favorite_count.append(user_timeline[i][\"favorite_count\"])\n",
      "    tweet_id.append(user_timeline[i][\"id\"])\n",
      "    follower_count.append(user_timeline[i][\"user\"][\"followers_count\"])\n",
      "    url_count.append(len(user_timeline[i][\"entities\"][\"urls\"]))\n",
      "    hashtag_count.append(len(user_timeline[i][\"entities\"][\"hashtags\"]))\n",
      "    media_count.append(int(\"media\" in user_timeline[i][\"entities\"]))\n",
      "    user_mentions_count.append(len(user_timeline[i][\"entities\"][\"user_mentions\"]))\n",
      "    if user_timeline[i][\"text\"][:2]=='RT':\n",
      "        temp = user_timeline[i][\"text\"].encode(\"ascii\",\"ignore\").split(':')[1:]\n",
      "        temp = ':'.join(temp)\n",
      "        tweet_text.append(temp)\n",
      "        tweet_length.append(len(temp))\n",
      "    else:\n",
      "        tweet_text.append(user_timeline[i][\"text\"].encode(\"ascii\",\"ignore\"))\n",
      "        tweet_length.append(len(user_timeline[i][\"text\"].encode(\"ascii\",\"ignore\")))"
     ],
     "language": "python",
     "metadata": {},
     "outputs": [],
     "prompt_number": 10
    },
    {
     "cell_type": "heading",
     "level": 4,
     "metadata": {},
     "source": [
      "Verifying the each list has as many items as the number of tweets in user_timeline"
     ]
    },
    {
     "cell_type": "code",
     "collapsed": false,
     "input": [
      "assert len(date)==len(user_timeline)\n",
      "assert len(tweet_id)==len(user_timeline)\n",
      "assert len(tweet_text)==len(user_timeline)\n",
      "assert len(tweet_length)==len(user_timeline)\n",
      "assert len(retweet_count)==len(user_timeline)\n",
      "assert len(favorite_count)==len(user_timeline)\n",
      "assert len(hashtag_count)==len(user_timeline)\n",
      "assert len(url_count)==len(user_timeline)\n",
      "assert len(user_mentions_count)==len(user_timeline)\n",
      "assert len(media_count)==len(user_timeline)\n",
      "assert len(follower_count)==len(user_timeline)"
     ],
     "language": "python",
     "metadata": {},
     "outputs": [],
     "prompt_number": 11
    },
    {
     "cell_type": "heading",
     "level": 2,
     "metadata": {},
     "source": [
      "Creating a DataFrame and slicing information for a 30-day period prior to election"
     ]
    },
    {
     "cell_type": "code",
     "collapsed": false,
     "input": [
      "data = {'retweet_count':retweet_count, 'date': date,'favorite_count': favorite_count, \n",
      "        'tweet_id': tweet_id, 'follower_count': follower_count, 'url_count': url_count,\n",
      "        'hashtag_count':hashtag_count, 'media_count': media_count, 'tweet_text': tweet_text,\n",
      "        'tweet_length': tweet_length, 'user_mentions': user_mentions_count}\n",
      "\n",
      "candidate_df = pd.DataFrame(data, columns = ['date', 'tweet_id', 'tweet_text','tweet_length',\n",
      "                                            'retweet_count', 'favorite_count', 'hashtag_count', \n",
      "                                            'url_count', 'user_mentions', 'media_count', 'follower_count'])"
     ],
     "language": "python",
     "metadata": {},
     "outputs": [],
     "prompt_number": 12
    },
    {
     "cell_type": "code",
     "collapsed": false,
     "input": [
      "candidate_df['total_entities'] = candidate_df['hashtag_count'] + candidate_df['url_count'] + candidate_df['user_mentions']"
     ],
     "language": "python",
     "metadata": {},
     "outputs": [],
     "prompt_number": 13
    },
    {
     "cell_type": "code",
     "collapsed": false,
     "input": [
      "election_date = datetime.date(2014,11,4)                     #input the election date here in the format yyyy,mm,dd\n",
      "date_prior_30days = election_date - datetime.timedelta(30)"
     ],
     "language": "python",
     "metadata": {},
     "outputs": [],
     "prompt_number": 14
    },
    {
     "cell_type": "code",
     "collapsed": false,
     "input": [
      "candidate_df = candidate_df[candidate_df['date']<=election_date]        # slicing the dataframe\n",
      "candidate_df = candidate_df[candidate_df['date']>=date_prior_30days]\n",
      "candidate_df = candidate_df.sort(columns = 'date', ascending = True)    #sorting by date - ascending order\n",
      "candidate_df = candidate_df.reset_index(drop=True)                      #reseting the index to start from 0"
     ],
     "language": "python",
     "metadata": {},
     "outputs": [],
     "prompt_number": 15
    },
    {
     "cell_type": "code",
     "collapsed": false,
     "input": [
      "candidate_df.info()"
     ],
     "language": "python",
     "metadata": {},
     "outputs": [
      {
       "output_type": "stream",
       "stream": "stdout",
       "text": [
        "<class 'pandas.core.frame.DataFrame'>\n",
        "Int64Index: 42 entries, 0 to 41\n",
        "Data columns (total 12 columns):\n",
        "date              42 non-null object\n",
        "tweet_id          42 non-null int64\n",
        "tweet_text        42 non-null object\n",
        "tweet_length      42 non-null int64\n",
        "retweet_count     42 non-null int64\n",
        "favorite_count    42 non-null int64\n",
        "hashtag_count     42 non-null int64\n",
        "url_count         42 non-null int64\n",
        "user_mentions     42 non-null int64\n",
        "media_count       42 non-null int64\n",
        "follower_count    42 non-null int64\n",
        "total_entities    42 non-null int64\n",
        "dtypes: int64(10), object(2)\n",
        "memory usage: 4.3 KB\n"
       ]
      }
     ],
     "prompt_number": 16
    },
    {
     "cell_type": "code",
     "collapsed": false,
     "input": [
      "candidate_df.head(2)"
     ],
     "language": "python",
     "metadata": {},
     "outputs": [
      {
       "html": [
        "<div style=\"max-height:1000px;max-width:1500px;overflow:auto;\">\n",
        "<table border=\"1\" class=\"dataframe\">\n",
        "  <thead>\n",
        "    <tr style=\"text-align: right;\">\n",
        "      <th></th>\n",
        "      <th>date</th>\n",
        "      <th>tweet_id</th>\n",
        "      <th>tweet_text</th>\n",
        "      <th>tweet_length</th>\n",
        "      <th>retweet_count</th>\n",
        "      <th>favorite_count</th>\n",
        "      <th>hashtag_count</th>\n",
        "      <th>url_count</th>\n",
        "      <th>user_mentions</th>\n",
        "      <th>media_count</th>\n",
        "      <th>follower_count</th>\n",
        "      <th>total_entities</th>\n",
        "    </tr>\n",
        "  </thead>\n",
        "  <tbody>\n",
        "    <tr>\n",
        "      <th>0</th>\n",
        "      <td> 2014-10-07</td>\n",
        "      <td> 519623368325083136</td>\n",
        "      <td>  LA Times, OC Register, SD Union Tribune, SJ M...</td>\n",
        "      <td> 119</td>\n",
        "      <td>  3</td>\n",
        "      <td> 0</td>\n",
        "      <td> 1</td>\n",
        "      <td> 1</td>\n",
        "      <td> 1</td>\n",
        "      <td> 0</td>\n",
        "      <td> 1046632</td>\n",
        "      <td> 3</td>\n",
        "    </tr>\n",
        "    <tr>\n",
        "      <th>1</th>\n",
        "      <td> 2014-10-07</td>\n",
        "      <td> 519608466831179777</td>\n",
        "      <td>  OC Register, Sac Bee, SF Chronicle, SJ Mercur...</td>\n",
        "      <td> 119</td>\n",
        "      <td> 10</td>\n",
        "      <td> 0</td>\n",
        "      <td> 1</td>\n",
        "      <td> 1</td>\n",
        "      <td> 1</td>\n",
        "      <td> 0</td>\n",
        "      <td> 1046632</td>\n",
        "      <td> 3</td>\n",
        "    </tr>\n",
        "  </tbody>\n",
        "</table>\n",
        "</div>"
       ],
       "metadata": {},
       "output_type": "pyout",
       "prompt_number": 17,
       "text": [
        "         date            tweet_id  \\\n",
        "0  2014-10-07  519623368325083136   \n",
        "1  2014-10-07  519608466831179777   \n",
        "\n",
        "                                          tweet_text  tweet_length  \\\n",
        "0   LA Times, OC Register, SD Union Tribune, SJ M...           119   \n",
        "1   OC Register, Sac Bee, SF Chronicle, SJ Mercur...           119   \n",
        "\n",
        "   retweet_count  favorite_count  hashtag_count  url_count  user_mentions  \\\n",
        "0              3               0              1          1              1   \n",
        "1             10               0              1          1              1   \n",
        "\n",
        "   media_count  follower_count  total_entities  \n",
        "0            0         1046632               3  \n",
        "1            0         1046632               3  "
       ]
      }
     ],
     "prompt_number": 17
    },
    {
     "cell_type": "heading",
     "level": 2,
     "metadata": {},
     "source": [
      "Saving the information in a CSV file"
     ]
    },
    {
     "cell_type": "code",
     "collapsed": false,
     "input": [
      "candidate_df.to_csv('name.csv')                   #candidate_df = pd.read_csv('jerry_brown.csv', index_col = 0)"
     ],
     "language": "python",
     "metadata": {},
     "outputs": [],
     "prompt_number": 18
    },
    {
     "cell_type": "heading",
     "level": 2,
     "metadata": {},
     "source": [
      "Analysing the 140 chars"
     ]
    },
    {
     "cell_type": "markdown",
     "metadata": {},
     "source": [
      "Note: This is just to see an example of how the words are extracted from the tweet. This information is not being stored out to any .csv file. This piece of code is being run in another notebook. "
     ]
    },
    {
     "cell_type": "heading",
     "level": 4,
     "metadata": {},
     "source": [
      "Unique words and word counts"
     ]
    },
    {
     "cell_type": "code",
     "collapsed": false,
     "input": [
      "tweets_series = candidate_df.tweet_text.str.lower()"
     ],
     "language": "python",
     "metadata": {},
     "outputs": [],
     "prompt_number": 19
    },
    {
     "cell_type": "code",
     "collapsed": false,
     "input": [
      "word_list = []\n",
      "for i in range(len(tweets_series)):\n",
      "    single_tweet = tweets_series[i].split(' ')\n",
      "    for words in single_tweet:\n",
      "        words = words.strip(',')\n",
      "        words = words.strip('!')\n",
      "        words = words.strip('.')\n",
      "        words = words.strip(':')\n",
      "        words = words.strip('-')\n",
      "        words = words.strip(' ')\n",
      "        word_list.append(words)"
     ],
     "language": "python",
     "metadata": {},
     "outputs": [],
     "prompt_number": 20
    },
    {
     "cell_type": "code",
     "collapsed": false,
     "input": [
      "word_frame = pd.DataFrame(word_list, columns = ['words'])\n",
      "counts_frame = pd.DataFrame(word_frame.words.value_counts(), columns = ['count'])"
     ],
     "language": "python",
     "metadata": {},
     "outputs": [],
     "prompt_number": 21
    },
    {
     "cell_type": "code",
     "collapsed": false,
     "input": [
      "counts_frame[counts_frame['count']>=5]"
     ],
     "language": "python",
     "metadata": {},
     "outputs": [
      {
       "html": [
        "<div style=\"max-height:1000px;max-width:1500px;overflow:auto;\">\n",
        "<table border=\"1\" class=\"dataframe\">\n",
        "  <thead>\n",
        "    <tr style=\"text-align: right;\">\n",
        "      <th></th>\n",
        "      <th>count</th>\n",
        "    </tr>\n",
        "  </thead>\n",
        "  <tbody>\n",
        "    <tr>\n",
        "      <th></th>\n",
        "      <td> 32</td>\n",
        "    </tr>\n",
        "    <tr>\n",
        "      <th>the</th>\n",
        "      <td> 17</td>\n",
        "    </tr>\n",
        "    <tr>\n",
        "      <th>@yesonprops1and2</th>\n",
        "      <td> 16</td>\n",
        "    </tr>\n",
        "    <tr>\n",
        "      <th>to</th>\n",
        "      <td> 13</td>\n",
        "    </tr>\n",
        "    <tr>\n",
        "      <th>save</th>\n",
        "      <td> 13</td>\n",
        "    </tr>\n",
        "    <tr>\n",
        "      <th>a</th>\n",
        "      <td> 12</td>\n",
        "    </tr>\n",
        "    <tr>\n",
        "      <th>for</th>\n",
        "      <td> 12</td>\n",
        "    </tr>\n",
        "    <tr>\n",
        "      <th>and</th>\n",
        "      <td> 10</td>\n",
        "    </tr>\n",
        "    <tr>\n",
        "      <th>vote</th>\n",
        "      <td>  9</td>\n",
        "    </tr>\n",
        "    <tr>\n",
        "      <th>2</th>\n",
        "      <td>  7</td>\n",
        "    </tr>\n",
        "    <tr>\n",
        "      <th>california</th>\n",
        "      <td>  7</td>\n",
        "    </tr>\n",
        "    <tr>\n",
        "      <th>water</th>\n",
        "      <td>  7</td>\n",
        "    </tr>\n",
        "    <tr>\n",
        "      <th>money</th>\n",
        "      <td>  5</td>\n",
        "    </tr>\n",
        "    <tr>\n",
        "      <th>on</th>\n",
        "      <td>  5</td>\n",
        "    </tr>\n",
        "    <tr>\n",
        "      <th>#yesonprop2</th>\n",
        "      <td>  5</td>\n",
        "    </tr>\n",
        "  </tbody>\n",
        "</table>\n",
        "</div>"
       ],
       "metadata": {},
       "output_type": "pyout",
       "prompt_number": 22,
       "text": [
        "                  count\n",
        "                     32\n",
        "the                  17\n",
        "@yesonprops1and2     16\n",
        "to                   13\n",
        "save                 13\n",
        "a                    12\n",
        "for                  12\n",
        "and                  10\n",
        "vote                  9\n",
        "2                     7\n",
        "california            7\n",
        "water                 7\n",
        "money                 5\n",
        "on                    5\n",
        "#yesonprop2           5"
       ]
      }
     ],
     "prompt_number": 22
    },
    {
     "cell_type": "heading",
     "level": 4,
     "metadata": {},
     "source": [
      "Average words/tweet"
     ]
    },
    {
     "cell_type": "code",
     "collapsed": false,
     "input": [
      "# A function for computing the average number of words per tweet\n",
      "def average_words(statuses):\n",
      "    total_words = sum([ len(s.split()) for s in statuses ]) \n",
      "    return 1.0*total_words/len(statuses)"
     ],
     "language": "python",
     "metadata": {},
     "outputs": [],
     "prompt_number": 23
    },
    {
     "cell_type": "code",
     "collapsed": false,
     "input": [
      "average_words(tweets_series)"
     ],
     "language": "python",
     "metadata": {},
     "outputs": [
      {
       "metadata": {},
       "output_type": "pyout",
       "prompt_number": 24,
       "text": [
        "12.785714285714286"
       ]
      }
     ],
     "prompt_number": 24
    },
    {
     "cell_type": "heading",
     "level": 4,
     "metadata": {},
     "source": [
      "Lexical diversity"
     ]
    },
    {
     "cell_type": "markdown",
     "metadata": {},
     "source": [
      "It can be defined as the percentage of unique words among all words in all the tweets. For e.g. if lexical diversity is 0.57, it implies 57% of all the words in tweets are unique. You can also say that nearly every secong word in teh tweet is unique."
     ]
    },
    {
     "cell_type": "code",
     "collapsed": false,
     "input": [
      "# A function for computing lexical diversity\n",
      "def lexical_diversity(tokens):\n",
      "    return 1.0*len(set(tokens))/len(tokens)"
     ],
     "language": "python",
     "metadata": {},
     "outputs": [],
     "prompt_number": 25
    },
    {
     "cell_type": "code",
     "collapsed": false,
     "input": [
      "lexical_diversity(word_list)"
     ],
     "language": "python",
     "metadata": {},
     "outputs": [
      {
       "metadata": {},
       "output_type": "pyout",
       "prompt_number": 26,
       "text": [
        "0.5701598579040853"
       ]
      }
     ],
     "prompt_number": 26
    }
   ],
   "metadata": {}
  }
 ]
}