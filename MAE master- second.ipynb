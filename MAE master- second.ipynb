{
 "metadata": {
  "kernelspec": {
   "codemirror_mode": {
    "name": "ipython",
    "version": 2
   },
   "display_name": "IPython (Python 2)",
   "language": "python",
   "name": "python2"
  },
  "name": "",
  "signature": "sha256:bcb79823ea793177b2b378481f99da640444e8c05c50d8483ceaa53c457203a2"
 },
 "nbformat": 3,
 "nbformat_minor": 0,
 "worksheets": [
  {
   "cells": [
    {
     "cell_type": "code",
     "collapsed": false,
     "input": [
      "import pandas as pd\n",
      "import numpy as np\n",
      "%matplotlib inline\n",
      "import matplotlib\n",
      "import matplotlib.pyplot as plt\n",
      "import seaborn as sns\n",
      "import math\n",
      "from scipy import stats\n",
      "from pylab import plot,show, title\n"
     ],
     "language": "python",
     "metadata": {},
     "outputs": [],
     "prompt_number": 2
    },
    {
     "cell_type": "code",
     "collapsed": false,
     "input": [
      "df = pd.read_csv('new_table.csv',  index_col = 'Unnamed: 0')\n",
      "new_df = df.reset_index(drop = True)"
     ],
     "language": "python",
     "metadata": {},
     "outputs": [],
     "prompt_number": 3
    },
    {
     "cell_type": "code",
     "collapsed": false,
     "input": [
      "new_df.head()"
     ],
     "language": "python",
     "metadata": {},
     "outputs": [
      {
       "html": [
        "<div style=\"max-height:1000px;max-width:1500px;overflow:auto;\">\n",
        "<table border=\"1\" class=\"dataframe\">\n",
        "  <thead>\n",
        "    <tr style=\"text-align: right;\">\n",
        "      <th></th>\n",
        "      <th>name</th>\n",
        "      <th>state</th>\n",
        "      <th>party</th>\n",
        "      <th>incumbent</th>\n",
        "      <th>title</th>\n",
        "      <th>result</th>\n",
        "      <th>twitter_username</th>\n",
        "      <th>follower_count</th>\n",
        "      <th>tweets_count</th>\n",
        "      <th>avg_tweet_lenth</th>\n",
        "      <th>...</th>\n",
        "      <th>statetotal_favorites</th>\n",
        "      <th>%of_tweets</th>\n",
        "      <th>%of_followers</th>\n",
        "      <th>%of_retweets</th>\n",
        "      <th>%of_favorites</th>\n",
        "      <th>vote_%</th>\n",
        "      <th>tweets_votes</th>\n",
        "      <th>followers_votes</th>\n",
        "      <th>retweets_votes</th>\n",
        "      <th>favorites_votes</th>\n",
        "    </tr>\n",
        "  </thead>\n",
        "  <tbody>\n",
        "    <tr>\n",
        "      <th>0</th>\n",
        "      <td>        fred_duval</td>\n",
        "      <td>    Arizona</td>\n",
        "      <td>   Democrat</td>\n",
        "      <td>  No</td>\n",
        "      <td> Governor</td>\n",
        "      <td> L</td>\n",
        "      <td>     FredDuVal</td>\n",
        "      <td>    6468</td>\n",
        "      <td> 203</td>\n",
        "      <td>NaN</td>\n",
        "      <td>...</td>\n",
        "      <td> 1774</td>\n",
        "      <td> 0.586705</td>\n",
        "      <td> 0.483661</td>\n",
        "      <td> 0.362929</td>\n",
        "      <td> 0.518038</td>\n",
        "      <td> 0.42</td>\n",
        "      <td> 0.166705</td>\n",
        "      <td> 0.063661</td>\n",
        "      <td> 0.057071</td>\n",
        "      <td> 0.098038</td>\n",
        "    </tr>\n",
        "    <tr>\n",
        "      <th>1</th>\n",
        "      <td>        doug_ducey</td>\n",
        "      <td>    Arizona</td>\n",
        "      <td> Republican</td>\n",
        "      <td>  No</td>\n",
        "      <td> Governor</td>\n",
        "      <td> W</td>\n",
        "      <td>     dougducey</td>\n",
        "      <td>    6905</td>\n",
        "      <td> 143</td>\n",
        "      <td>NaN</td>\n",
        "      <td>...</td>\n",
        "      <td> 1774</td>\n",
        "      <td> 0.413295</td>\n",
        "      <td> 0.516339</td>\n",
        "      <td> 0.637071</td>\n",
        "      <td> 0.481962</td>\n",
        "      <td> 0.53</td>\n",
        "      <td> 0.116705</td>\n",
        "      <td> 0.013661</td>\n",
        "      <td> 0.107071</td>\n",
        "      <td> 0.048038</td>\n",
        "    </tr>\n",
        "    <tr>\n",
        "      <th>2</th>\n",
        "      <td>     neel_kashkari</td>\n",
        "      <td> California</td>\n",
        "      <td> Republican</td>\n",
        "      <td>  No</td>\n",
        "      <td> Governor</td>\n",
        "      <td> L</td>\n",
        "      <td>  neelkashkari</td>\n",
        "      <td>    6542</td>\n",
        "      <td> 168</td>\n",
        "      <td>NaN</td>\n",
        "      <td>...</td>\n",
        "      <td> 1529</td>\n",
        "      <td> 0.800000</td>\n",
        "      <td> 0.006211</td>\n",
        "      <td> 0.715791</td>\n",
        "      <td> 0.439503</td>\n",
        "      <td> 0.40</td>\n",
        "      <td> 0.400000</td>\n",
        "      <td> 0.393789</td>\n",
        "      <td> 0.315791</td>\n",
        "      <td> 0.039503</td>\n",
        "    </tr>\n",
        "    <tr>\n",
        "      <th>3</th>\n",
        "      <td>       jerry_brown</td>\n",
        "      <td> California</td>\n",
        "      <td>   Democrat</td>\n",
        "      <td> Yes</td>\n",
        "      <td> Governor</td>\n",
        "      <td> W</td>\n",
        "      <td> JerryBrownGov</td>\n",
        "      <td> 1046667</td>\n",
        "      <td>  42</td>\n",
        "      <td>NaN</td>\n",
        "      <td>...</td>\n",
        "      <td> 1529</td>\n",
        "      <td> 0.200000</td>\n",
        "      <td> 0.993789</td>\n",
        "      <td> 0.284209</td>\n",
        "      <td> 0.560497</td>\n",
        "      <td> 0.60</td>\n",
        "      <td> 0.400000</td>\n",
        "      <td> 0.393789</td>\n",
        "      <td> 0.315791</td>\n",
        "      <td> 0.039503</td>\n",
        "    </tr>\n",
        "    <tr>\n",
        "      <th>4</th>\n",
        "      <td> john_hickenlooper</td>\n",
        "      <td>   Colorado</td>\n",
        "      <td>   Democrat</td>\n",
        "      <td> Yes</td>\n",
        "      <td> Governor</td>\n",
        "      <td> W</td>\n",
        "      <td>     hickforco</td>\n",
        "      <td>   37486</td>\n",
        "      <td>  64</td>\n",
        "      <td>NaN</td>\n",
        "      <td>...</td>\n",
        "      <td> 1049</td>\n",
        "      <td> 0.320000</td>\n",
        "      <td> 0.910340</td>\n",
        "      <td> 0.227599</td>\n",
        "      <td> 0.724500</td>\n",
        "      <td> 0.49</td>\n",
        "      <td> 0.170000</td>\n",
        "      <td> 0.420340</td>\n",
        "      <td> 0.262401</td>\n",
        "      <td> 0.234500</td>\n",
        "    </tr>\n",
        "  </tbody>\n",
        "</table>\n",
        "<p>5 rows \u00d7 32 columns</p>\n",
        "</div>"
       ],
       "metadata": {},
       "output_type": "pyout",
       "prompt_number": 4,
       "text": [
        "                name       state       party incumbent     title result  \\\n",
        "0         fred_duval     Arizona    Democrat        No  Governor      L   \n",
        "1         doug_ducey     Arizona  Republican        No  Governor      W   \n",
        "2      neel_kashkari  California  Republican        No  Governor      L   \n",
        "3        jerry_brown  California    Democrat       Yes  Governor      W   \n",
        "4  john_hickenlooper    Colorado    Democrat       Yes  Governor      W   \n",
        "\n",
        "  twitter_username  follower_count  tweets_count  avg_tweet_lenth  \\\n",
        "0        FredDuVal            6468           203              NaN   \n",
        "1        dougducey            6905           143              NaN   \n",
        "2     neelkashkari            6542           168              NaN   \n",
        "3    JerryBrownGov         1046667            42              NaN   \n",
        "4        hickforco           37486            64              NaN   \n",
        "\n",
        "        ...         statetotal_favorites  %of_tweets  %of_followers  \\\n",
        "0       ...                         1774    0.586705       0.483661   \n",
        "1       ...                         1774    0.413295       0.516339   \n",
        "2       ...                         1529    0.800000       0.006211   \n",
        "3       ...                         1529    0.200000       0.993789   \n",
        "4       ...                         1049    0.320000       0.910340   \n",
        "\n",
        "   %of_retweets  %of_favorites  vote_%  tweets_votes  followers_votes  \\\n",
        "0      0.362929       0.518038    0.42      0.166705         0.063661   \n",
        "1      0.637071       0.481962    0.53      0.116705         0.013661   \n",
        "2      0.715791       0.439503    0.40      0.400000         0.393789   \n",
        "3      0.284209       0.560497    0.60      0.400000         0.393789   \n",
        "4      0.227599       0.724500    0.49      0.170000         0.420340   \n",
        "\n",
        "   retweets_votes  favorites_votes  \n",
        "0        0.057071         0.098038  \n",
        "1        0.107071         0.048038  \n",
        "2        0.315791         0.039503  \n",
        "3        0.315791         0.039503  \n",
        "4        0.262401         0.234500  \n",
        "\n",
        "[5 rows x 32 columns]"
       ]
      }
     ],
     "prompt_number": 4
    },
    {
     "cell_type": "code",
     "collapsed": false,
     "input": [
      "vote_difference  = []\n",
      "i = 0\n",
      "while i <= 73:\n",
      "    a = i + 1\n",
      "    vote_difference.append(new_df['vote_%'][i] - new_df['vote_%'][a])\n",
      "    i = i + 2"
     ],
     "language": "python",
     "metadata": {},
     "outputs": [],
     "prompt_number": 5
    },
    {
     "cell_type": "code",
     "collapsed": false,
     "input": [
      "vote_differencenp = np.array(vote_difference)\n",
      "vote_differencenp.mean() * 100\n"
     ],
     "language": "python",
     "metadata": {},
     "outputs": [
      {
       "metadata": {},
       "output_type": "pyout",
       "prompt_number": 6,
       "text": [
        "0.24324324324324315"
       ]
      }
     ],
     "prompt_number": 6
    },
    {
     "cell_type": "heading",
     "level": 2,
     "metadata": {},
     "source": [
      "MAE"
     ]
    },
    {
     "cell_type": "markdown",
     "metadata": {},
     "source": [
      "MAE's (Mean Absolute Error's) are a common statistic used in analysis of twitter data and political elections. They are used to calculate how well a twitter metric predicts the actual % of votes a candidate will receive. For example, if a candidate tweets 60% of all tweets in his or her state, and they receive 50% of the votes in the election, the MAE will be  10%. The MAE takes the absolute value of these differences and averages them. "
     ]
    },
    {
     "cell_type": "markdown",
     "metadata": {},
     "source": [
      "Each candidates % of tweets, favorites, retweets, and followers is computed by dividing their # of each by the overall amount in the state during the 30 day period. "
     ]
    },
    {
     "cell_type": "markdown",
     "metadata": {},
     "source": [
      "The overall number for the state is simply the addition of each candidates"
     ]
    },
    {
     "cell_type": "markdown",
     "metadata": {},
     "source": [
      "Each candidate then will have a difference between their % of tweets, retweets, favorites, and followers and their percentage of electoral vote. This statistic is then average across all candidates for each category (tweets, retweets, followers, and favorites)"
     ]
    },
    {
     "cell_type": "markdown",
     "metadata": {},
     "source": [
      "The average % difference in margin of victory was 24%. This is inline with other studies that have shown an average of 25% across thousands of state legislative elections as well. info from : http://uspolitics.about.com/od/CampaignsElections/a/Can-One-Vote-Make-A-Difference.htm"
     ]
    },
    {
     "cell_type": "markdown",
     "metadata": {},
     "source": [
      "In the Dataframes below the mean is the MAE for each statistic. "
     ]
    },
    {
     "cell_type": "code",
     "collapsed": false,
     "input": [
      "pd.DataFrame(df['tweets_votes'].describe())\n"
     ],
     "language": "python",
     "metadata": {},
     "outputs": [
      {
       "html": [
        "<div style=\"max-height:1000px;max-width:1500px;overflow:auto;\">\n",
        "<table border=\"1\" class=\"dataframe\">\n",
        "  <thead>\n",
        "    <tr style=\"text-align: right;\">\n",
        "      <th></th>\n",
        "      <th>tweets_votes</th>\n",
        "    </tr>\n",
        "  </thead>\n",
        "  <tbody>\n",
        "    <tr>\n",
        "      <th>count</th>\n",
        "      <td> 74.000000</td>\n",
        "    </tr>\n",
        "    <tr>\n",
        "      <th>mean</th>\n",
        "      <td>  0.278030</td>\n",
        "    </tr>\n",
        "    <tr>\n",
        "      <th>std</th>\n",
        "      <td>  0.146526</td>\n",
        "    </tr>\n",
        "    <tr>\n",
        "      <th>min</th>\n",
        "      <td>  0.000000</td>\n",
        "    </tr>\n",
        "    <tr>\n",
        "      <th>25%</th>\n",
        "      <td>  0.169028</td>\n",
        "    </tr>\n",
        "    <tr>\n",
        "      <th>50%</th>\n",
        "      <td>  0.271505</td>\n",
        "    </tr>\n",
        "    <tr>\n",
        "      <th>75%</th>\n",
        "      <td>  0.375203</td>\n",
        "    </tr>\n",
        "    <tr>\n",
        "      <th>max</th>\n",
        "      <td>  0.697442</td>\n",
        "    </tr>\n",
        "  </tbody>\n",
        "</table>\n",
        "</div>"
       ],
       "metadata": {},
       "output_type": "pyout",
       "prompt_number": 82,
       "text": [
        "       tweets_votes\n",
        "count     74.000000\n",
        "mean       0.278030\n",
        "std        0.146526\n",
        "min        0.000000\n",
        "25%        0.169028\n",
        "50%        0.271505\n",
        "75%        0.375203\n",
        "max        0.697442"
       ]
      }
     ],
     "prompt_number": 82
    },
    {
     "cell_type": "code",
     "collapsed": false,
     "input": [
      "pd.DataFrame(df['retweets_votes'].describe())"
     ],
     "language": "python",
     "metadata": {},
     "outputs": [
      {
       "html": [
        "<div style=\"max-height:1000px;max-width:1500px;overflow:auto;\">\n",
        "<table border=\"1\" class=\"dataframe\">\n",
        "  <thead>\n",
        "    <tr style=\"text-align: right;\">\n",
        "      <th></th>\n",
        "      <th>retweets_votes</th>\n",
        "    </tr>\n",
        "  </thead>\n",
        "  <tbody>\n",
        "    <tr>\n",
        "      <th>count</th>\n",
        "      <td> 74.000000</td>\n",
        "    </tr>\n",
        "    <tr>\n",
        "      <th>mean</th>\n",
        "      <td>  0.301834</td>\n",
        "    </tr>\n",
        "    <tr>\n",
        "      <th>std</th>\n",
        "      <td>  0.153287</td>\n",
        "    </tr>\n",
        "    <tr>\n",
        "      <th>min</th>\n",
        "      <td>  0.002109</td>\n",
        "    </tr>\n",
        "    <tr>\n",
        "      <th>25%</th>\n",
        "      <td>  0.229503</td>\n",
        "    </tr>\n",
        "    <tr>\n",
        "      <th>50%</th>\n",
        "      <td>  0.313270</td>\n",
        "    </tr>\n",
        "    <tr>\n",
        "      <th>75%</th>\n",
        "      <td>  0.419356</td>\n",
        "    </tr>\n",
        "    <tr>\n",
        "      <th>max</th>\n",
        "      <td>  0.674000</td>\n",
        "    </tr>\n",
        "  </tbody>\n",
        "</table>\n",
        "</div>"
       ],
       "metadata": {},
       "output_type": "pyout",
       "prompt_number": 8,
       "text": [
        "       retweets_votes\n",
        "count       74.000000\n",
        "mean         0.301834\n",
        "std          0.153287\n",
        "min          0.002109\n",
        "25%          0.229503\n",
        "50%          0.313270\n",
        "75%          0.419356\n",
        "max          0.674000"
       ]
      }
     ],
     "prompt_number": 8
    },
    {
     "cell_type": "code",
     "collapsed": false,
     "input": [
      "pd.DataFrame(df['favorites_votes'].describe())"
     ],
     "language": "python",
     "metadata": {},
     "outputs": [
      {
       "html": [
        "<div style=\"max-height:1000px;max-width:1500px;overflow:auto;\">\n",
        "<table border=\"1\" class=\"dataframe\">\n",
        "  <thead>\n",
        "    <tr style=\"text-align: right;\">\n",
        "      <th></th>\n",
        "      <th>favorites_votes</th>\n",
        "    </tr>\n",
        "  </thead>\n",
        "  <tbody>\n",
        "    <tr>\n",
        "      <th>count</th>\n",
        "      <td> 74.000000</td>\n",
        "    </tr>\n",
        "    <tr>\n",
        "      <th>mean</th>\n",
        "      <td>  0.267240</td>\n",
        "    </tr>\n",
        "    <tr>\n",
        "      <th>std</th>\n",
        "      <td>  0.161806</td>\n",
        "    </tr>\n",
        "    <tr>\n",
        "      <th>min</th>\n",
        "      <td>  0.010816</td>\n",
        "    </tr>\n",
        "    <tr>\n",
        "      <th>25%</th>\n",
        "      <td>  0.099969</td>\n",
        "    </tr>\n",
        "    <tr>\n",
        "      <th>50%</th>\n",
        "      <td>  0.286740</td>\n",
        "    </tr>\n",
        "    <tr>\n",
        "      <th>75%</th>\n",
        "      <td>  0.403319</td>\n",
        "    </tr>\n",
        "    <tr>\n",
        "      <th>max</th>\n",
        "      <td>  0.658571</td>\n",
        "    </tr>\n",
        "  </tbody>\n",
        "</table>\n",
        "</div>"
       ],
       "metadata": {},
       "output_type": "pyout",
       "prompt_number": 9,
       "text": [
        "       favorites_votes\n",
        "count        74.000000\n",
        "mean          0.267240\n",
        "std           0.161806\n",
        "min           0.010816\n",
        "25%           0.099969\n",
        "50%           0.286740\n",
        "75%           0.403319\n",
        "max           0.658571"
       ]
      }
     ],
     "prompt_number": 9
    },
    {
     "cell_type": "code",
     "collapsed": false,
     "input": [
      "pd.DataFrame(df['followers_votes'].describe())"
     ],
     "language": "python",
     "metadata": {},
     "outputs": [
      {
       "html": [
        "<div style=\"max-height:1000px;max-width:1500px;overflow:auto;\">\n",
        "<table border=\"1\" class=\"dataframe\">\n",
        "  <thead>\n",
        "    <tr style=\"text-align: right;\">\n",
        "      <th></th>\n",
        "      <th>followers_votes</th>\n",
        "    </tr>\n",
        "  </thead>\n",
        "  <tbody>\n",
        "    <tr>\n",
        "      <th>count</th>\n",
        "      <td> 74.000000</td>\n",
        "    </tr>\n",
        "    <tr>\n",
        "      <th>mean</th>\n",
        "      <td>  0.221371</td>\n",
        "    </tr>\n",
        "    <tr>\n",
        "      <th>std</th>\n",
        "      <td>  0.135340</td>\n",
        "    </tr>\n",
        "    <tr>\n",
        "      <th>min</th>\n",
        "      <td>  0.008976</td>\n",
        "    </tr>\n",
        "    <tr>\n",
        "      <th>25%</th>\n",
        "      <td>  0.105852</td>\n",
        "    </tr>\n",
        "    <tr>\n",
        "      <th>50%</th>\n",
        "      <td>  0.237504</td>\n",
        "    </tr>\n",
        "    <tr>\n",
        "      <th>75%</th>\n",
        "      <td>  0.335387</td>\n",
        "    </tr>\n",
        "    <tr>\n",
        "      <th>max</th>\n",
        "      <td>  0.420340</td>\n",
        "    </tr>\n",
        "  </tbody>\n",
        "</table>\n",
        "</div>"
       ],
       "metadata": {},
       "output_type": "pyout",
       "prompt_number": 7,
       "text": [
        "       followers_votes\n",
        "count        74.000000\n",
        "mean          0.221371\n",
        "std           0.135340\n",
        "min           0.008976\n",
        "25%           0.105852\n",
        "50%           0.237504\n",
        "75%           0.335387\n",
        "max           0.420340"
       ]
      }
     ],
     "prompt_number": 7
    },
    {
     "cell_type": "markdown",
     "metadata": {},
     "source": [
      "- Our data show higher MAE's across the board than many oher studies, but are more in line with other U.S. studies, some of which reported MAE of 17% in recent U.S. elections.\n",
      "- German and UK studies showed numbers as low as 2% for tweet count MAE. \n",
      "- Info from: \"Tweets and Votes: A Study of the 2011 Singapore General Election\". Skoric, Poor, Lim, Jiang, Achananuparp. "
     ]
    },
    {
     "cell_type": "markdown",
     "metadata": {},
     "source": [
      "Below are scatter plot's with Trendlines for each of the statistics. \n",
      "- Only Follower's show's a significant correlation either way. \n",
      "- % of tweets and % of retweets show slight negative correlations. \n",
      "- % of favorites is flat. "
     ]
    },
    {
     "cell_type": "markdown",
     "metadata": {},
     "source": [
      "Source for trendline \n",
      "http://glowingpython.blogspot.com/2012/03/linear-regression-with-numpy.html"
     ]
    },
    {
     "cell_type": "code",
     "collapsed": false,
     "input": [
      "sns.set_style('darkgrid')\n",
      "sns.set_context('notebook')"
     ],
     "language": "python",
     "metadata": {},
     "outputs": [],
     "prompt_number": 98
    },
    {
     "cell_type": "code",
     "collapsed": false,
     "input": [
      "slope1, intercept1, r_value1, p_value1, std_err1 = stats.linregress(df['%of_tweets'], df['vote_%'])\n",
      "\n",
      "print 'p_value', p_value1\n",
      "line1 = slope1*df['%of_tweets']+intercept1\n",
      "plot(df['%of_tweets'],line1,'r-',df['%of_tweets'],df['vote_%'],'o')\n",
      "title('%of_tweets regression', fontsize = 18 )\n",
      "show()"
     ],
     "language": "python",
     "metadata": {},
     "outputs": [
      {
       "output_type": "stream",
       "stream": "stdout",
       "text": [
        "p_value 0.220259688104\n"
       ]
      },
      {
       "metadata": {},
       "output_type": "display_data",
       "png": "[encoded data removed]",
       "text": [
        "<matplotlib.figure.Figure at 0x10a6f5610>"
       ]
      }
     ],
     "prompt_number": 115
    },
    {
     "cell_type": "code",
     "collapsed": false,
     "input": [
      "slope2, intercept2, r_value2, p_value2, std_err2 = stats.linregress(df['%of_retweets'], df['vote_%'])\n",
      "print 'p_value', p_value2\n",
      "\n",
      "line2 = slope2*df['%of_retweets']+intercept2\n",
      "plot(df['%of_retweets'],line2,'r-',df['%of_retweets'],df['vote_%'],'o')\n",
      "title('%of_retweets regression', fontsize = 18 )\n",
      "show()"
     ],
     "language": "python",
     "metadata": {},
     "outputs": [
      {
       "output_type": "stream",
       "stream": "stdout",
       "text": [
        "p_value 0.534781173389\n"
       ]
      },
      {
       "metadata": {},
       "output_type": "display_data",
       "png": "[encoded data removed]",
       "text": [
        "<matplotlib.figure.Figure at 0x10a4e7850>"
       ]
      }
     ],
     "prompt_number": 114
    },
    {
     "cell_type": "code",
     "collapsed": false,
     "input": [
      "slope3, intercept3, r_value3, p_value3, std_err3 = stats.linregress(df['%of_favorites'], df['vote_%'])\n",
      "\n",
      "print  'p_value', p_value3\n",
      "line3 = slope3*df['%of_favorites']+intercept3\n",
      "plot(df['%of_favorites'],line3,'r-',df['%of_favorites'],df['vote_%'],'o')\n",
      "title('%of_favorites regression', fontsize = 18 )\n",
      "show()"
     ],
     "language": "python",
     "metadata": {},
     "outputs": [
      {
       "output_type": "stream",
       "stream": "stdout",
       "text": [
        "p_value 0.874123956945\n"
       ]
      },
      {
       "metadata": {},
       "output_type": "display_data",
       "png": "[encoded data removed]",
       "text": [
        "<matplotlib.figure.Figure at 0x109569b10>"
       ]
      }
     ],
     "prompt_number": 119
    },
    {
     "cell_type": "code",
     "collapsed": false,
     "input": [
      "slope4, intercept4, r_value4, p_value4, std_err4 = stats.linregress(df['%of_followers'], df['vote_%'])\n",
      "\n",
      "print  'p_value', p_value4\n",
      "print 'r_value', r_value4\n",
      "\n",
      "line4 = slope4*df['%of_followers']+intercept4\n",
      "plot(df['%of_followers'],line4,'r-',df['%of_followers'],df['vote_%'],'o')\n",
      "title('%of_followers regression', fontsize = 18 )\n",
      "show()"
     ],
     "language": "python",
     "metadata": {},
     "outputs": [
      {
       "output_type": "stream",
       "stream": "stdout",
       "text": [
        "p_value 4.30162488357e-08\n",
        "r_value 0.585389855953\n"
       ]
      },
      {
       "metadata": {},
       "output_type": "display_data",
       "png": "[encoded data removed]",
       "text": [
        "<matplotlib.figure.Figure at 0x109d0b390>"
       ]
      }
     ],
     "prompt_number": 7
    },
    {
     "cell_type": "code",
     "collapsed": false,
     "input": [],
     "language": "python",
     "metadata": {},
     "outputs": []
    }
   ],
   "metadata": {}
  }
 ]
}